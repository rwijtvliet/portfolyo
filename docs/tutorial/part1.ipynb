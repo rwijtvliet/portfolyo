{
 "cells": [
  {
   "cell_type": "markdown",
   "metadata": {},
   "source": [
    "# Tutorial part 1\n",
    "\n",
    "In this first part, we'll look at the ``PfLine`` class."
   ]
  },
  {
   "cell_type": "markdown",
   "metadata": {},
   "source": [
    "## Imports and example data\n",
    "\n",
    "We start by importing the package. In this tutorial we will always be using the ``pf`` alias. We also import ``pandas`` with its common alias ``pd``."
   ]
  },
  {
   "cell_type": "code",
   "execution_count": 1,
   "metadata": {},
   "outputs": [],
   "source": [
    "import portfolyo as pf\n",
    "import pandas as pd"
   ]
  },
  {
   "cell_type": "markdown",
   "metadata": {},
   "source": [
    "For real-life applications, our input data will likely be a ``pandas.Series`` or ``pandas.DataFrame``, read from an Excel workbook, database, or other data service. Before this data can be used, it must often be \"standardized\" so that it has a certain format. That is not part of this tutorial; see [this section](../specialized_topics/dataprep.rst) for more information on standardizing input data.\n",
    "\n",
    "In order to get some data \"to play with\", ``portfolyo`` has a few mock functions which we will use in this tutorial. Let's get some example data for 2024 in daily resolution, as a ``pandas.Series``:"
   ]
  },
  {
   "cell_type": "code",
   "execution_count": 2,
   "metadata": {},
   "outputs": [
    {
     "data": {
      "text/plain": [
       "2024-01-01    -109.82906350692659\n",
       "2024-01-02    -117.59741950895963\n",
       "2024-01-03    -119.70709016944336\n",
       "2024-01-04    -117.86017122022747\n",
       "2024-01-05     -117.2519684513788\n",
       "                     ...         \n",
       "2024-12-27    -118.67977965259668\n",
       "2024-12-28    -110.81385953621894\n",
       "2024-12-29     -99.75349171720131\n",
       "2024-12-30    -110.13909878670293\n",
       "2024-12-31    -118.41906817358385\n",
       "Freq: D, Name: w, Length: 366, dtype: pint[MW]"
      ]
     },
     "execution_count": 2,
     "metadata": {},
     "output_type": "execute_result"
    }
   ],
   "source": [
    "index = pd.date_range(\"2024\", freq=\"D\", periods=366)\n",
    "ts_offtake = -1 * pf.dev.w_offtake(index)\n",
    "ts_offtake"
   ]
  },
  {
   "cell_type": "markdown",
   "metadata": {},
   "source": [
    "The \"w\" in ``w_offtake`` indicates that the timeseries has *power* values, which we can also see by the ``dtype == \"pint[MW]\"``. See [this section on dimensions and units](../specialized_topics/dimensions.rst) for more information.\n",
    "\n",
    "(If our data source provides timeseries of floats, i.e., without a unit, we can explicitly set the unit with ``.astype(\"pint[MW]\")``.)\n",
    "\n",
    "Sign conventions are a touchy subject for portfolio managers; in this case, the function returns positive values, and we flip the sign to indicate that this volume *leaves* the portfolio.\n",
    "\n",
    "## My first portfolio line\n",
    "\n",
    "One of the main classes defined by ``portfolyo`` is the ``PfLine`` (portfolio line). \n",
    "\n",
    "### Initialisation\n",
    "\n",
    "We can initialise one with the offtake timeseries by passing it as a dictionary value. The corresponding key ``\"w\"`` indicates that we are dealing with power values:"
   ]
  },
  {
   "cell_type": "code",
   "execution_count": 3,
   "metadata": {},
   "outputs": [
    {
     "data": {
      "text/plain": [
       "PfLine object with volume information.\n",
       ". Timestamps: first: 2024-01-01 00:00:00     timezone: None\n",
       "               last: 2024-12-31 00:00:00         freq: <Day> (366 datapoints)\n",
       "                                     w           q\n",
       "                                    MW         MWh\n",
       "\n",
       "2024-01-01 00:00:00             -109.8      -2 636\n",
       "2024-01-02 00:00:00             -117.6      -2 822\n",
       "2024-01-03 00:00:00             -119.7      -2 873\n",
       "2024-01-04 00:00:00             -117.9      -2 829\n",
       "2024-01-05 00:00:00             -117.3      -2 814\n",
       "2024-01-06 00:00:00             -110.2      -2 645\n",
       "2024-01-07 00:00:00              -97.6      -2 342\n",
       "2024-01-08 00:00:00             -113.3      -2 719\n",
       "2024-01-09 00:00:00             -118.8      -2 852\n",
       "2024-01-10 00:00:00             -119.9      -2 877\n",
       "..                                  ..          ..\n",
       "2024-12-23 00:00:00             -111.3      -2 671\n",
       "2024-12-24 00:00:00             -118.6      -2 845\n",
       "2024-12-25 00:00:00             -118.3      -2 839\n",
       "2024-12-26 00:00:00             -118.9      -2 853\n",
       "2024-12-27 00:00:00             -118.7      -2 848\n",
       "2024-12-28 00:00:00             -110.8      -2 660\n",
       "2024-12-29 00:00:00              -99.8      -2 394\n",
       "2024-12-30 00:00:00             -110.1      -2 643\n",
       "2024-12-31 00:00:00             -118.4      -2 842"
      ]
     },
     "execution_count": 3,
     "metadata": {},
     "output_type": "execute_result"
    }
   ],
   "source": [
    "offtake = pf.PfLine({\"w\": ts_offtake})\n",
    "offtake"
   ]
  },
  {
   "cell_type": "markdown",
   "metadata": {},
   "source": [
    "There are 3 kinds of portfolio line. The one above is a volume-only portfolyo line, and this volume is shown both as power ``w`` in [MW] and as energy ``q`` in [MWh].\n",
    "\n",
    "We can create a similar portfolio line containing price-only data:"
   ]
  },
  {
   "cell_type": "code",
   "execution_count": 4,
   "metadata": {},
   "outputs": [],
   "source": [
    "ts_prices = pf.dev.p_marketprices(index)\n",
    "prices = pf.PfLine({\"p\": ts_prices})"
   ]
  },
  {
   "cell_type": "markdown",
   "metadata": {},
   "source": [
    "The third kind is a price-and-volume portfolio line. We can create this, either directly (e.g. by initialising a ``PfLine`` with a dictiory having both an ``'q'`` and ``'r'`` key), or through arithmatic (see below)."
   ]
  },
  {
   "cell_type": "markdown",
   "metadata": {},
   "source": [
    "Let's have a look at some of the features of the ``PfLine`` class.\n",
    "\n",
    "### Plotting\n",
    "\n",
    "A good first look at the data is graphically. For this we can use the ``.plot()`` method:"
   ]
  },
  {
   "cell_type": "code",
   "execution_count": 5,
   "metadata": {},
   "outputs": [
    {
     "data": {
      "image/png": "[encoded data removed]",
      "text/plain": [
       "<Figure size 720x216 with 1 Axes>"
      ]
     },
     "metadata": {
      "needs_background": "light"
     },
     "output_type": "display_data"
    }
   ],
   "source": [
    "offtake.plot();"
   ]
  },
  {
   "cell_type": "markdown",
   "metadata": {},
   "source": [
    "### Resampling\n",
    "\n",
    "Often we will want to aggregate the data to another frequency. For this we can use the ``.asfreq()`` method, e.g., to get quarterly values:"
   ]
  },
  {
   "cell_type": "code",
   "execution_count": 6,
   "metadata": {},
   "outputs": [
    {
     "data": {
      "text/plain": [
       "PfLine object with price information.\n",
       ". Timestamps: first: 2024-01-01 00:00:00     timezone: None\n",
       "               last: 2024-10-01 00:00:00         freq: <QuarterBegin: startingMonth=1> (4 datapoints)\n",
       "                                    p\n",
       "                              Eur/MWh\n",
       "\n",
       "2024-01-01 00:00:00            120.90\n",
       "2024-04-01 00:00:00             82.44\n",
       "2024-07-01 00:00:00             78.99\n",
       "2024-10-01 00:00:00            117.56"
      ]
     },
     "execution_count": 6,
     "metadata": {},
     "output_type": "execute_result"
    }
   ],
   "source": [
    "prices.asfreq(\"QS\")"
   ]
  },
  {
   "cell_type": "markdown",
   "metadata": {},
   "source": [
    "(``portfolyo`` ensures that the values are aggregated correctly. In this case, the price (``p``) values are weighted-averaged (weighted with the duration of each datapoint - in this case a uniform 24h). See [Resampling](../specialized_topics/resampling.rst) for more information.)\n",
    "\n",
    "The argument ``\"QS\"`` specifies that we want quarterly values. The allowed values, in decreasing duration, are in the ``pf.FREQUENCIES`` constant (``\"15T\"`` means quarterhourly):"
   ]
  },
  {
   "cell_type": "code",
   "execution_count": 7,
   "metadata": {},
   "outputs": [
    {
     "data": {
      "text/plain": [
       "['AS', 'QS', 'MS', 'D', 'H', '15T']"
      ]
     },
     "execution_count": 7,
     "metadata": {},
     "output_type": "execute_result"
    }
   ],
   "source": [
    "pf.FREQUENCIES"
   ]
  },
  {
   "cell_type": "markdown",
   "metadata": {},
   "source": [
    "### Extracting data\n",
    "\n",
    "If we want to extract the data in a portfolio line, we have several options.\n",
    "\n",
    "Firstly, we can obtain well-known ``pandas.Series``, with the properties ``.w``, ``.q``, ``.p``, ``.r``. For the offtake portfolio line, only ``.w`` and ``.q`` return non-NaN-values; for the price portfolio line, it is only ``.p``:"
   ]
  },
  {
   "cell_type": "code",
   "execution_count": 8,
   "metadata": {},
   "outputs": [
    {
     "data": {
      "text/plain": [
       "2024-01-01    134.47496375578058\n",
       "2024-01-02    133.29093392195819\n",
       "2024-01-03    129.28921635861454\n",
       "2024-01-04    125.48318601110948\n",
       "2024-01-05     124.7388613599846\n",
       "                     ...        \n",
       "2024-12-27    123.37095664514214\n",
       "2024-12-28    126.24882933415036\n",
       "2024-12-29    130.58180253056403\n",
       "2024-12-30    133.10705904093814\n",
       "2024-12-31    131.92302920711575\n",
       "Freq: D, Name: p, Length: 366, dtype: pint[Eur/MW/h]"
      ]
     },
     "execution_count": 8,
     "metadata": {},
     "output_type": "execute_result"
    }
   ],
   "source": [
    "prices.p"
   ]
  },
  {
   "cell_type": "markdown",
   "metadata": {},
   "source": [
    "As can be seen from the data type, this series includes the unit (using the ``pint`` package), but this can be easily stripped with ``.pint.m``, returning a plain timeseries of floats.\n",
    "\n",
    "We can also obtain a ``pandas.DataFrame`` with the ``.df()`` method. Here too the unit is included. In this case, it can be stripped (and inserted as a column level) with ``.pint.dequantify()``, as demonstrated here:"
   ]
  },
  {
   "cell_type": "code",
   "execution_count": 9,
   "metadata": {},
   "outputs": [
    {
     "data": {
      "text/html": [
       "<div>\n",
       "<style scoped>\n",
       "    .dataframe tbody tr th:only-of-type {\n",
       "        vertical-align: middle;\n",
       "    }\n",
       "\n",
       "    .dataframe tbody tr th {\n",
       "        vertical-align: top;\n",
       "    }\n",
       "\n",
       "    .dataframe thead tr th {\n",
       "        text-align: left;\n",
       "    }\n",
       "</style>\n",
       "<table border=\"1\" class=\"dataframe\">\n",
       "  <thead>\n",
       "    <tr>\n",
       "      <th></th>\n",
       "      <th>w</th>\n",
       "      <th>q</th>\n",
       "    </tr>\n",
       "    <tr>\n",
       "      <th>unit</th>\n",
       "      <th>MW</th>\n",
       "      <th>MW·h</th>\n",
       "    </tr>\n",
       "  </thead>\n",
       "  <tbody>\n",
       "    <tr>\n",
       "      <th>2024-01-01</th>\n",
       "      <td>-109.829064</td>\n",
       "      <td>-2635.897524</td>\n",
       "    </tr>\n",
       "    <tr>\n",
       "      <th>2024-01-02</th>\n",
       "      <td>-117.597420</td>\n",
       "      <td>-2822.338068</td>\n",
       "    </tr>\n",
       "    <tr>\n",
       "      <th>2024-01-03</th>\n",
       "      <td>-119.707090</td>\n",
       "      <td>-2872.970164</td>\n",
       "    </tr>\n",
       "    <tr>\n",
       "      <th>2024-01-04</th>\n",
       "      <td>-117.860171</td>\n",
       "      <td>-2828.644109</td>\n",
       "    </tr>\n",
       "    <tr>\n",
       "      <th>2024-01-05</th>\n",
       "      <td>-117.251968</td>\n",
       "      <td>-2814.047243</td>\n",
       "    </tr>\n",
       "    <tr>\n",
       "      <th>...</th>\n",
       "      <td>...</td>\n",
       "      <td>...</td>\n",
       "    </tr>\n",
       "    <tr>\n",
       "      <th>2024-12-27</th>\n",
       "      <td>-118.679780</td>\n",
       "      <td>-2848.314712</td>\n",
       "    </tr>\n",
       "    <tr>\n",
       "      <th>2024-12-28</th>\n",
       "      <td>-110.813860</td>\n",
       "      <td>-2659.532629</td>\n",
       "    </tr>\n",
       "    <tr>\n",
       "      <th>2024-12-29</th>\n",
       "      <td>-99.753492</td>\n",
       "      <td>-2394.083801</td>\n",
       "    </tr>\n",
       "    <tr>\n",
       "      <th>2024-12-30</th>\n",
       "      <td>-110.139099</td>\n",
       "      <td>-2643.338371</td>\n",
       "    </tr>\n",
       "    <tr>\n",
       "      <th>2024-12-31</th>\n",
       "      <td>-118.419068</td>\n",
       "      <td>-2842.057636</td>\n",
       "    </tr>\n",
       "  </tbody>\n",
       "</table>\n",
       "<p>366 rows × 2 columns</p>\n",
       "</div>"
      ],
      "text/plain": [
       "                     w            q\n",
       "unit                MW         MW·h\n",
       "2024-01-01 -109.829064 -2635.897524\n",
       "2024-01-02 -117.597420 -2822.338068\n",
       "2024-01-03 -119.707090 -2872.970164\n",
       "2024-01-04 -117.860171 -2828.644109\n",
       "2024-01-05 -117.251968 -2814.047243\n",
       "...                ...          ...\n",
       "2024-12-27 -118.679780 -2848.314712\n",
       "2024-12-28 -110.813860 -2659.532629\n",
       "2024-12-29  -99.753492 -2394.083801\n",
       "2024-12-30 -110.139099 -2643.338371\n",
       "2024-12-31 -118.419068 -2842.057636\n",
       "\n",
       "[366 rows x 2 columns]"
      ]
     },
     "execution_count": 9,
     "metadata": {},
     "output_type": "execute_result"
    }
   ],
   "source": [
    "offtake.df().pint.dequantify()"
   ]
  },
  {
   "cell_type": "markdown",
   "metadata": {},
   "source": [
    "Finally, we can export the data to an Excel workbook with the ``.to_excel()`` method, or copy it to the clipboard (to be pasted into e.g. Excel) with the ``.to_clipboard()`` method:"
   ]
  },
  {
   "cell_type": "code",
   "execution_count": 10,
   "metadata": {},
   "outputs": [],
   "source": [
    "offtake.to_clipboard()"
   ]
  },
  {
   "cell_type": "markdown",
   "metadata": {},
   "source": [
    "## Arithmatic with portfolio lines\n",
    "\n",
    "We can do arithmatic with portfolio line. For details on what is possible and which are the return values, see the table [here](../core/pfline.rst#arithmatic). \n",
    "\n",
    "A useful function is ``pf.Q_()``, which returns a single ``pint.Quantity`` and understands various units:"
   ]
  },
  {
   "cell_type": "code",
   "execution_count": 11,
   "metadata": {},
   "outputs": [
    {
     "data": {
      "text/plain": [
       "True"
      ]
     },
     "execution_count": 11,
     "metadata": {},
     "output_type": "execute_result"
    }
   ],
   "source": [
    "pf.Q_(200.0, \"MW\") == pf.Q_(0.2, \"GW\") == pf.Q_(12.0, \"GJ/min\")"
   ]
  },
  {
   "cell_type": "markdown",
   "metadata": {},
   "source": [
    "### Adding / Subtracting fixed value\n",
    "\n",
    "We can increase the offtake by a uniform 200 MW like so: (``-`` due to the offtake being negative.)"
   ]
  },
  {
   "cell_type": "code",
   "execution_count": 12,
   "metadata": {},
   "outputs": [
    {
     "data": {
      "text/plain": [
       "PfLine object with volume information.\n",
       ". Timestamps: first: 2024-01-01 00:00:00     timezone: None\n",
       "               last: 2024-12-31 00:00:00         freq: <Day> (366 datapoints)\n",
       "                                     w           q\n",
       "                                    MW         MWh\n",
       "\n",
       "2024-01-01 00:00:00             -309.8      -7 436\n",
       "2024-01-02 00:00:00             -317.6      -7 622\n",
       "2024-01-03 00:00:00             -319.7      -7 673\n",
       "2024-01-04 00:00:00             -317.9      -7 629\n",
       "2024-01-05 00:00:00             -317.3      -7 614\n",
       "2024-01-06 00:00:00             -310.2      -7 445\n",
       "2024-01-07 00:00:00             -297.6      -7 142\n",
       "2024-01-08 00:00:00             -313.3      -7 519\n",
       "2024-01-09 00:00:00             -318.8      -7 652\n",
       "2024-01-10 00:00:00             -319.9      -7 677\n",
       "..                                  ..          ..\n",
       "2024-12-23 00:00:00             -311.3      -7 471\n",
       "2024-12-24 00:00:00             -318.6      -7 645\n",
       "2024-12-25 00:00:00             -318.3      -7 639\n",
       "2024-12-26 00:00:00             -318.9      -7 653\n",
       "2024-12-27 00:00:00             -318.7      -7 648\n",
       "2024-12-28 00:00:00             -310.8      -7 460\n",
       "2024-12-29 00:00:00             -299.8      -7 194\n",
       "2024-12-30 00:00:00             -310.1      -7 443\n",
       "2024-12-31 00:00:00             -318.4      -7 642"
      ]
     },
     "execution_count": 12,
     "metadata": {},
     "output_type": "execute_result"
    }
   ],
   "source": [
    "offtake - pf.Q_(0.2, \"GW\")"
   ]
  },
  {
   "cell_type": "markdown",
   "metadata": {},
   "source": [
    "Alternatively, if we prefer to work with floats, we could also use a dictionary to specify the power, like so: ``offtake - {\"q\": 200}``. In this case, it is assumed that our value is in the default unit.\n",
    "\n",
    "### Multiplying / Dividing with fixed factor\n",
    "\n",
    "Likewise we can multiply the data with a factor. If the offtake increases to 120%, we get"
   ]
  },
  {
   "cell_type": "code",
   "execution_count": 13,
   "metadata": {},
   "outputs": [
    {
     "data": {
      "text/plain": [
       "PfLine object with volume information.\n",
       ". Timestamps: first: 2024-01-01 00:00:00     timezone: None\n",
       "               last: 2024-12-31 00:00:00         freq: <Day> (366 datapoints)\n",
       "                                     w           q\n",
       "                                    MW         MWh\n",
       "\n",
       "2024-01-01 00:00:00             -131.8      -3 163\n",
       "2024-01-02 00:00:00             -141.1      -3 387\n",
       "2024-01-03 00:00:00             -143.6      -3 448\n",
       "2024-01-04 00:00:00             -141.4      -3 394\n",
       "2024-01-05 00:00:00             -140.7      -3 377\n",
       "2024-01-06 00:00:00             -132.2      -3 174\n",
       "2024-01-07 00:00:00             -117.1      -2 811\n",
       "2024-01-08 00:00:00             -135.9      -3 262\n",
       "2024-01-09 00:00:00             -142.6      -3 423\n",
       "2024-01-10 00:00:00             -143.8      -3 452\n",
       "..                                  ..          ..\n",
       "2024-12-23 00:00:00             -133.6      -3 206\n",
       "2024-12-24 00:00:00             -142.3      -3 414\n",
       "2024-12-25 00:00:00             -141.9      -3 407\n",
       "2024-12-26 00:00:00             -142.6      -3 423\n",
       "2024-12-27 00:00:00             -142.4      -3 418\n",
       "2024-12-28 00:00:00             -133.0      -3 191\n",
       "2024-12-29 00:00:00             -119.7      -2 873\n",
       "2024-12-30 00:00:00             -132.2      -3 172\n",
       "2024-12-31 00:00:00             -142.1      -3 410"
      ]
     },
     "execution_count": 13,
     "metadata": {},
     "output_type": "execute_result"
    }
   ],
   "source": [
    "offtake * 1.2"
   ]
  },
  {
   "cell_type": "markdown",
   "metadata": {},
   "source": [
    "### Arithmatic using timeseries\n",
    "\n",
    "We don't have to use uniform values: we can also use other timeseries as operands. For example, if we expect a steady increase of the offtake, we can create a timeseries like this:"
   ]
  },
  {
   "cell_type": "code",
   "execution_count": 14,
   "metadata": {},
   "outputs": [
    {
     "data": {
      "text/plain": [
       "2024-01-01    0.000000\n",
       "2024-01-02    0.002055\n",
       "2024-01-03    0.004110\n",
       "2024-01-04    0.006164\n",
       "2024-01-05    0.008219\n",
       "                ...   \n",
       "2024-12-27    0.741781\n",
       "2024-12-28    0.743836\n",
       "2024-12-29    0.745890\n",
       "2024-12-30    0.747945\n",
       "2024-12-31    0.750000\n",
       "Freq: D, Length: 366, dtype: float64"
      ]
     },
     "execution_count": 14,
     "metadata": {},
     "output_type": "execute_result"
    }
   ],
   "source": [
    "yearfraction = (index - index[0]) / (\n",
    "    index[-1] - index[0]\n",
    ")  # values from 0 at start of index to 1 at end\n",
    "increase = pd.Series(yearfraction * 0.75, index)\n",
    "increase"
   ]
  },
  {
   "cell_type": "markdown",
   "metadata": {},
   "source": [
    "... which can be multiplied with the offtake in the following way, to increase the offtake with a varying percentage, that ranges from +0% on Jan 01 to +75% on Dec. 31:"
   ]
  },
  {
   "cell_type": "code",
   "execution_count": 15,
   "metadata": {},
   "outputs": [
    {
     "data": {
      "image/png": "[encoded data removed]",
      "text/plain": [
       "<Figure size 720x216 with 1 Axes>"
      ]
     },
     "metadata": {
      "needs_background": "light"
     },
     "output_type": "display_data"
    }
   ],
   "source": [
    "more_offtake = offtake * (1 + increase)\n",
    "more_offtake.plot();"
   ]
  },
  {
   "cell_type": "markdown",
   "metadata": {},
   "source": [
    "### Combining volume and price\n",
    "\n",
    "We can also combine the offtake volume with a price, which gives us a price-and-volume portfolio line. We can use fixed values, like here:"
   ]
  },
  {
   "cell_type": "code",
   "execution_count": 16,
   "metadata": {},
   "outputs": [
    {
     "data": {
      "text/plain": [
       "PfLine object with price and volume information.\n",
       ". Timestamps: first: 2024-01-01 00:00:00     timezone: None\n",
       "               last: 2024-12-31 00:00:00         freq: <Day> (366 datapoints)\n",
       "                                     w           q           p             r\n",
       "                                    MW         MWh     Eur/MWh           Eur\n",
       "\n",
       "2024-01-01 00:00:00             -109.8      -2 636      110.00      -289 949\n",
       "2024-01-02 00:00:00             -117.6      -2 822      110.00      -310 457\n",
       "2024-01-03 00:00:00             -119.7      -2 873      110.00      -316 027\n",
       "2024-01-04 00:00:00             -117.9      -2 829      110.00      -311 151\n",
       "2024-01-05 00:00:00             -117.3      -2 814      110.00      -309 545\n",
       "2024-01-06 00:00:00             -110.2      -2 645      110.00      -290 941\n",
       "2024-01-07 00:00:00              -97.6      -2 342      110.00      -257 646\n",
       "2024-01-08 00:00:00             -113.3      -2 719      110.00      -299 043\n",
       "2024-01-09 00:00:00             -118.8      -2 852      110.00      -313 754\n",
       "2024-01-10 00:00:00             -119.9      -2 877      110.00      -316 461\n",
       "..                                  ..          ..          ..            ..\n",
       "2024-12-23 00:00:00             -111.3      -2 671      110.00      -293 843\n",
       "2024-12-24 00:00:00             -118.6      -2 845      110.00      -312 994\n",
       "2024-12-25 00:00:00             -118.3      -2 839      110.00      -312 268\n",
       "2024-12-26 00:00:00             -118.9      -2 853      110.00      -313 817\n",
       "2024-12-27 00:00:00             -118.7      -2 848      110.00      -313 315\n",
       "2024-12-28 00:00:00             -110.8      -2 660      110.00      -292 549\n",
       "2024-12-29 00:00:00              -99.8      -2 394      110.00      -263 349\n",
       "2024-12-30 00:00:00             -110.1      -2 643      110.00      -290 767\n",
       "2024-12-31 00:00:00             -118.4      -2 842      110.00      -312 626"
      ]
     },
     "execution_count": 16,
     "metadata": {},
     "output_type": "execute_result"
    }
   ],
   "source": [
    "offtake * pf.Q_(11, \"ctEur/kWh\")"
   ]
  },
  {
   "cell_type": "markdown",
   "metadata": {},
   "source": [
    "... or timeseries or other ``PfLine`` instances, like here:"
   ]
  },
  {
   "cell_type": "code",
   "execution_count": 17,
   "metadata": {},
   "outputs": [],
   "source": [
    "valued_offtake = offtake * prices  # multiplying two PfLines"
   ]
  },
  {
   "cell_type": "markdown",
   "metadata": {},
   "source": [
    "The resulting portfolio lines can again be resampled:"
   ]
  },
  {
   "cell_type": "code",
   "execution_count": 18,
   "metadata": {},
   "outputs": [
    {
     "data": {
      "text/plain": [
       "PfLine object with price and volume information.\n",
       ". Timestamps: first: 2024-01-01 00:00:00     timezone: None\n",
       "               last: 2024-10-01 00:00:00         freq: <QuarterBegin: startingMonth=1> (4 datapoints)\n",
       "                                     w           q           p             r\n",
       "                                    MW         MWh     Eur/MWh           Eur\n",
       "\n",
       "2024-01-01 00:00:00             -109.9    -239 949      121.14   -29 067 812\n",
       "2024-04-01 00:00:00              -85.5    -186 825       83.12   -15 529 025\n",
       "2024-07-01 00:00:00              -78.4    -173 136       79.26   -13 722 209\n",
       "2024-10-01 00:00:00             -103.4    -228 249      118.12   -26 961 373"
      ]
     },
     "execution_count": 18,
     "metadata": {},
     "output_type": "execute_result"
    }
   ],
   "source": [
    "valued_offtake.asfreq(\"QS\")"
   ]
  },
  {
   "cell_type": "markdown",
   "metadata": {},
   "source": [
    "Note that, even though ``prices`` and ``valued_offtake`` use the same price values at the daily resolution, the prices at quarterly resolution are slightly different. This is not an error: the values in ``prices`` are simply averaged (or actually, weighted with the duration of each timestamp, but those are uniform), whereas the values in ``valued_offtake`` are weighted with the energy in each timestamp.\n",
    "\n",
    "This tutorial is continued [in part 2](part2.ipynb)."
   ]
  },
  {
   "cell_type": "markdown",
   "metadata": {},
   "source": []
  }
 ],
 "metadata": {
  "kernelspec": {
   "display_name": "Python 3.8.13 ('pf38')",
   "language": "python",
   "name": "python3"
  },
  "language_info": {
   "codemirror_mode": {
    "name": "ipython",
    "version": 3
   },
   "file_extension": ".py",
   "mimetype": "text/x-python",
   "name": "python",
   "nbconvert_exporter": "python",
   "pygments_lexer": "ipython3",
   "version": "3.8.13"
  },
  "orig_nbformat": 4,
  "vscode": {
   "interpreter": {
    "hash": "642a4be8010ca5d45039b988c1d8379a91572488c4d23a0b88e966c6713c7e45"
   }
  }
 },
 "nbformat": 4,
 "nbformat_minor": 2
}
