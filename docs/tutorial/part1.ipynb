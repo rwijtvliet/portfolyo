{
 "cells": [
  {
   "cell_type": "markdown",
   "metadata": {},
   "source": [
    "# Tutorial part 1\n",
    "\n",
    "In this first part, we'll look at the ``PfLine`` class."
   ]
  },
  {
   "cell_type": "markdown",
   "metadata": {},
   "source": [
    "## Imports and example data\n",
    "\n",
    "We start by importing the package. In this tutorial we will always be using the ``pf`` alias. We also import ``pandas`` with its common alias ``pd``."
   ]
  },
  {
   "cell_type": "code",
   "execution_count": 1,
   "metadata": {},
   "outputs": [],
   "source": [
    "import portfolyo as pf\n",
    "import pandas as pd"
   ]
  },
  {
   "cell_type": "markdown",
   "metadata": {},
   "source": [
    "For real-life applications, our input data will likely be a ``pandas.Series`` or ``pandas.DataFrame``, read from an Excel workbook, database, or other data service. Before this data can be used, it must often be \"standardized\" so that it has a certain format. That is not part of this tutorial; see [this section](../specialized_topics/dataprep.rst) for more information on standardizing input data.\n",
    "\n",
    "In order to get some data \"to play with\", ``portfolyo`` has a few mock functions which we will use in this tutorial. Let's get some example data for 2024 in daily resolution, as a ``pandas.Series``:"
   ]
  },
  {
   "cell_type": "code",
   "execution_count": 2,
   "metadata": {},
   "outputs": [
    {
     "data": {
      "text/plain": [
       "2024-01-01    -109.48562536181115\n",
       "2024-01-02     -117.4094985644938\n",
       "2024-01-03    -119.41091107114026\n",
       "2024-01-04    -116.78013138698311\n",
       "2024-01-05    -119.51185255554175\n",
       "                     ...         \n",
       "2024-12-27    -117.70326661059724\n",
       "2024-12-28    -111.33880609787134\n",
       "2024-12-29     -98.00848038750523\n",
       "2024-12-30    -111.01554999345562\n",
       "2024-12-31    -119.57010826865002\n",
       "Freq: D, Name: w, Length: 366, dtype: pint[MW]"
      ]
     },
     "execution_count": 2,
     "metadata": {},
     "output_type": "execute_result"
    }
   ],
   "source": [
    "index = pd.date_range(\"2024\", freq=\"D\", periods=366)\n",
    "ts_offtake = -1 * pf.dev.w_offtake(index)\n",
    "ts_offtake"
   ]
  },
  {
   "cell_type": "markdown",
   "metadata": {},
   "source": [
    "The \"w\" in ``w_offtake`` indicates that the timeseries has *power* values, which we can also see by the ``dtype == \"pint[MW]\"``. See [this section on dimensions and units](../specialized_topics/dimensions.rst) for more information.\n",
    "\n",
    "(If our data source provides timeseries of floats, i.e., without a unit, we can explicitly set the unit with ``.astype(\"pint[MW]\")``.)\n",
    "\n",
    "Sign conventions are a touchy subject for portfolio managers; in this case, the function returns positive values, and we flip the sign to indicate that this volume *leaves* the portfolio.\n",
    "\n",
    "## My first portfolio line\n",
    "\n",
    "One of the main classes defined by ``portfolyo`` is the ``PfLine`` (portfolio line). \n",
    "\n",
    "### Initialisation\n",
    "\n",
    "We can initialise one with the offtake timeseries by passing it as a dictionary value. The corresponding key ``\"w\"`` indicates that we are dealing with power values:"
   ]
  },
  {
   "cell_type": "code",
   "execution_count": 3,
   "metadata": {},
   "outputs": [
    {
     "data": {
      "text/plain": [
       "PfLine object with volume information.\n",
       ". Start: 2024-01-01 00:00:00 (incl)    . Timezone    : none  \n",
       ". End  : 2025-01-01 00:00:00 (excl)    . Start-of-day: 00:00:00  \n",
       ". Freq : <Day> (366 datapoints)\n",
       "                                     w           q\n",
       "                                    MW         MWh\n",
       "\n",
       "2024-01-01 00:00:00             -109.5      -2 628\n",
       "2024-01-02 00:00:00             -117.4      -2 818\n",
       "2024-01-03 00:00:00             -119.4      -2 866\n",
       "2024-01-04 00:00:00             -116.8      -2 803\n",
       "2024-01-05 00:00:00             -119.5      -2 868\n",
       "2024-01-06 00:00:00             -110.8      -2 659\n",
       "2024-01-07 00:00:00             -100.9      -2 422\n",
       "2024-01-08 00:00:00             -113.4      -2 721\n",
       "2024-01-09 00:00:00             -117.5      -2 821\n",
       "2024-01-10 00:00:00             -119.1      -2 858\n",
       "..                                  ..          ..\n",
       "2024-12-23 00:00:00             -109.5      -2 628\n",
       "2024-12-24 00:00:00             -117.4      -2 817\n",
       "2024-12-25 00:00:00             -115.7      -2 777\n",
       "2024-12-26 00:00:00             -116.8      -2 803\n",
       "2024-12-27 00:00:00             -117.7      -2 825\n",
       "2024-12-28 00:00:00             -111.3      -2 672\n",
       "2024-12-29 00:00:00              -98.0      -2 352\n",
       "2024-12-30 00:00:00             -111.0      -2 664\n",
       "2024-12-31 00:00:00             -119.6      -2 870"
      ]
     },
     "execution_count": 3,
     "metadata": {},
     "output_type": "execute_result"
    }
   ],
   "source": [
    "offtake = pf.PfLine({\"w\": ts_offtake})\n",
    "offtake"
   ]
  },
  {
   "cell_type": "markdown",
   "metadata": {},
   "source": [
    "There are 3 kinds of portfolio line. The one above is a volume-only portfolyo line, and this volume is shown both as power ``w`` in [MW] and as energy ``q`` in [MWh].\n",
    "\n",
    "We can create a similar portfolio line containing price-only data:"
   ]
  },
  {
   "cell_type": "code",
   "execution_count": 4,
   "metadata": {},
   "outputs": [],
   "source": [
    "ts_prices = pf.dev.p_marketprices(index)\n",
    "prices = pf.PfLine({\"p\": ts_prices})"
   ]
  },
  {
   "cell_type": "markdown",
   "metadata": {},
   "source": [
    "The third kind is a price-and-volume portfolio line. We can create this, either directly (e.g. by initialising a ``PfLine`` with a dictiory having both an ``'q'`` and ``'r'`` key), or through arithmatic (see below)."
   ]
  },
  {
   "cell_type": "markdown",
   "metadata": {},
   "source": [
    "Let's have a look at some of the features of the ``PfLine`` class.\n",
    "\n",
    "### Plotting\n",
    "\n",
    "A good first look at the data is graphically. For this we can use the ``.plot()`` method:"
   ]
  },
  {
   "cell_type": "code",
   "execution_count": 5,
   "metadata": {},
   "outputs": [
    {
     "data": {
      "image/png": "[encoded data removed]",
      "text/plain": [
       "<Figure size 720x216 with 1 Axes>"
      ]
     },
     "metadata": {
      "needs_background": "light"
     },
     "output_type": "display_data"
    }
   ],
   "source": [
    "offtake.plot();"
   ]
  },
  {
   "cell_type": "markdown",
   "metadata": {},
   "source": [
    "### Resampling\n",
    "\n",
    "Often we will want to aggregate the data to another frequency. For this we can use the ``.asfreq()`` method, e.g., to get quarterly values:"
   ]
  },
  {
   "cell_type": "code",
   "execution_count": 6,
   "metadata": {},
   "outputs": [
    {
     "data": {
      "text/plain": [
       "PfLine object with price information.\n",
       ". Start: 2024-01-01 00:00:00 (incl)    . Timezone    : none  \n",
       ". End  : 2025-01-01 00:00:00 (excl)    . Start-of-day: 00:00:00  \n",
       ". Freq : <QuarterBegin: startingMonth=1> (4 datapoints)\n",
       "                                    p\n",
       "                              Eur/MWh\n",
       "\n",
       "2024-01-01 00:00:00            120.90\n",
       "2024-04-01 00:00:00             82.44\n",
       "2024-07-01 00:00:00             78.99\n",
       "2024-10-01 00:00:00            117.56"
      ]
     },
     "execution_count": 6,
     "metadata": {},
     "output_type": "execute_result"
    }
   ],
   "source": [
    "prices.asfreq(\"QS\")"
   ]
  },
  {
   "cell_type": "markdown",
   "metadata": {},
   "source": [
    "(``portfolyo`` ensures that the values are aggregated correctly. In this case, the price (``p``) values are weighted-averaged (weighted with the duration of each datapoint - in this case a uniform 24h). See [Resampling](../specialized_topics/resampling.rst) for more information.)\n",
    "\n",
    "The argument ``\"QS\"`` specifies that we want quarterly values. The allowed values, in decreasing duration, are in the ``pf.FREQUENCIES`` constant (``\"15T\"`` means quarterhourly):"
   ]
  },
  {
   "cell_type": "code",
   "execution_count": 7,
   "metadata": {},
   "outputs": [
    {
     "data": {
      "text/plain": [
       "['AS', 'QS', 'MS', 'D', 'H', '15T']"
      ]
     },
     "execution_count": 7,
     "metadata": {},
     "output_type": "execute_result"
    }
   ],
   "source": [
    "pf.FREQUENCIES"
   ]
  },
  {
   "cell_type": "markdown",
   "metadata": {},
   "source": [
    "### Extracting data\n",
    "\n",
    "If we want to extract the data in a portfolio line, we have several options.\n",
    "\n",
    "Firstly, we can obtain well-known ``pandas.Series``, with the properties ``.w``, ``.q``, ``.p``, ``.r``. For the offtake portfolio line, only ``.w`` and ``.q`` return non-NaN-values; for the price portfolio line, it is only ``.p``:"
   ]
  },
  {
   "cell_type": "code",
   "execution_count": 8,
   "metadata": {},
   "outputs": [
    {
     "data": {
      "text/plain": [
       "2024-01-01    134.47496375578058\n",
       "2024-01-02    133.29093392195819\n",
       "2024-01-03    129.28921635861454\n",
       "2024-01-04    125.48318601110948\n",
       "2024-01-05     124.7388613599846\n",
       "                     ...        \n",
       "2024-12-27    123.37095664514214\n",
       "2024-12-28    126.24882933415036\n",
       "2024-12-29    130.58180253056403\n",
       "2024-12-30    133.10705904093814\n",
       "2024-12-31    131.92302920711575\n",
       "Freq: D, Name: p, Length: 366, dtype: pint[Eur/MW/h]"
      ]
     },
     "execution_count": 8,
     "metadata": {},
     "output_type": "execute_result"
    }
   ],
   "source": [
    "prices.p"
   ]
  },
  {
   "cell_type": "markdown",
   "metadata": {},
   "source": [
    "As can be seen from the data type, this series includes the unit (using the ``pint`` package), but this can be easily stripped with ``.pint.m``, returning a plain timeseries of floats.\n",
    "\n",
    "We can also obtain a ``pandas.DataFrame`` with the ``.df()`` method. Here too the unit is included. In this case, it can be stripped (and inserted as a column level) with ``.pint.dequantify()``, as demonstrated here:"
   ]
  },
  {
   "cell_type": "code",
   "execution_count": 9,
   "metadata": {},
   "outputs": [
    {
     "data": {
      "text/html": [
       "<div>\n",
       "<style scoped>\n",
       "    .dataframe tbody tr th:only-of-type {\n",
       "        vertical-align: middle;\n",
       "    }\n",
       "\n",
       "    .dataframe tbody tr th {\n",
       "        vertical-align: top;\n",
       "    }\n",
       "\n",
       "    .dataframe thead tr th {\n",
       "        text-align: left;\n",
       "    }\n",
       "</style>\n",
       "<table border=\"1\" class=\"dataframe\">\n",
       "  <thead>\n",
       "    <tr>\n",
       "      <th></th>\n",
       "      <th>w</th>\n",
       "      <th>q</th>\n",
       "    </tr>\n",
       "    <tr>\n",
       "      <th>unit</th>\n",
       "      <th>MW</th>\n",
       "      <th>MW·h</th>\n",
       "    </tr>\n",
       "  </thead>\n",
       "  <tbody>\n",
       "    <tr>\n",
       "      <th>2024-01-01</th>\n",
       "      <td>-109.485625</td>\n",
       "      <td>-2627.655009</td>\n",
       "    </tr>\n",
       "    <tr>\n",
       "      <th>2024-01-02</th>\n",
       "      <td>-117.409499</td>\n",
       "      <td>-2817.827966</td>\n",
       "    </tr>\n",
       "    <tr>\n",
       "      <th>2024-01-03</th>\n",
       "      <td>-119.410911</td>\n",
       "      <td>-2865.861866</td>\n",
       "    </tr>\n",
       "    <tr>\n",
       "      <th>2024-01-04</th>\n",
       "      <td>-116.780131</td>\n",
       "      <td>-2802.723153</td>\n",
       "    </tr>\n",
       "    <tr>\n",
       "      <th>2024-01-05</th>\n",
       "      <td>-119.511853</td>\n",
       "      <td>-2868.284461</td>\n",
       "    </tr>\n",
       "    <tr>\n",
       "      <th>...</th>\n",
       "      <td>...</td>\n",
       "      <td>...</td>\n",
       "    </tr>\n",
       "    <tr>\n",
       "      <th>2024-12-27</th>\n",
       "      <td>-117.703267</td>\n",
       "      <td>-2824.878399</td>\n",
       "    </tr>\n",
       "    <tr>\n",
       "      <th>2024-12-28</th>\n",
       "      <td>-111.338806</td>\n",
       "      <td>-2672.131346</td>\n",
       "    </tr>\n",
       "    <tr>\n",
       "      <th>2024-12-29</th>\n",
       "      <td>-98.008480</td>\n",
       "      <td>-2352.203529</td>\n",
       "    </tr>\n",
       "    <tr>\n",
       "      <th>2024-12-30</th>\n",
       "      <td>-111.015550</td>\n",
       "      <td>-2664.373200</td>\n",
       "    </tr>\n",
       "    <tr>\n",
       "      <th>2024-12-31</th>\n",
       "      <td>-119.570108</td>\n",
       "      <td>-2869.682598</td>\n",
       "    </tr>\n",
       "  </tbody>\n",
       "</table>\n",
       "<p>366 rows × 2 columns</p>\n",
       "</div>"
      ],
      "text/plain": [
       "                     w            q\n",
       "unit                MW         MW·h\n",
       "2024-01-01 -109.485625 -2627.655009\n",
       "2024-01-02 -117.409499 -2817.827966\n",
       "2024-01-03 -119.410911 -2865.861866\n",
       "2024-01-04 -116.780131 -2802.723153\n",
       "2024-01-05 -119.511853 -2868.284461\n",
       "...                ...          ...\n",
       "2024-12-27 -117.703267 -2824.878399\n",
       "2024-12-28 -111.338806 -2672.131346\n",
       "2024-12-29  -98.008480 -2352.203529\n",
       "2024-12-30 -111.015550 -2664.373200\n",
       "2024-12-31 -119.570108 -2869.682598\n",
       "\n",
       "[366 rows x 2 columns]"
      ]
     },
     "execution_count": 9,
     "metadata": {},
     "output_type": "execute_result"
    }
   ],
   "source": [
    "offtake.df().pint.dequantify()"
   ]
  },
  {
   "cell_type": "markdown",
   "metadata": {},
   "source": [
    "Finally, we can export the data to an Excel workbook with the ``.to_excel()`` method, or copy it to the clipboard (to be pasted into e.g. Excel) with the ``.to_clipboard()`` method:"
   ]
  },
  {
   "cell_type": "code",
   "execution_count": 10,
   "metadata": {},
   "outputs": [],
   "source": [
    "offtake.to_clipboard()"
   ]
  },
  {
   "cell_type": "markdown",
   "metadata": {},
   "source": [
    "## Arithmatic with portfolio lines\n",
    "\n",
    "We can do arithmatic with portfolio line. For details on what is possible and which are the return values, see the table [here](../core/pfline.rst#arithmatic). \n",
    "\n",
    "A useful function is ``pf.Q_()``, which returns a single ``pint.Quantity`` and understands various units:"
   ]
  },
  {
   "cell_type": "code",
   "execution_count": 11,
   "metadata": {},
   "outputs": [
    {
     "data": {
      "text/plain": [
       "True"
      ]
     },
     "execution_count": 11,
     "metadata": {},
     "output_type": "execute_result"
    }
   ],
   "source": [
    "pf.Q_(200.0, \"MW\") == pf.Q_(0.2, \"GW\") == pf.Q_(12.0, \"GJ/min\")"
   ]
  },
  {
   "cell_type": "markdown",
   "metadata": {},
   "source": [
    "### Adding / Subtracting fixed value\n",
    "\n",
    "We can increase the offtake by a uniform 200 MW like so: (``-`` due to the offtake being negative.)"
   ]
  },
  {
   "cell_type": "code",
   "execution_count": 12,
   "metadata": {},
   "outputs": [
    {
     "data": {
      "text/plain": [
       "PfLine object with volume information.\n",
       ". Start: 2024-01-01 00:00:00 (incl)    . Timezone    : none  \n",
       ". End  : 2025-01-01 00:00:00 (excl)    . Start-of-day: 00:00:00  \n",
       ". Freq : <Day> (366 datapoints)\n",
       "                                     w           q\n",
       "                                    MW         MWh\n",
       "\n",
       "2024-01-01 00:00:00             -309.5      -7 428\n",
       "2024-01-02 00:00:00             -317.4      -7 618\n",
       "2024-01-03 00:00:00             -319.4      -7 666\n",
       "2024-01-04 00:00:00             -316.8      -7 603\n",
       "2024-01-05 00:00:00             -319.5      -7 668\n",
       "2024-01-06 00:00:00             -310.8      -7 459\n",
       "2024-01-07 00:00:00             -300.9      -7 222\n",
       "2024-01-08 00:00:00             -313.4      -7 521\n",
       "2024-01-09 00:00:00             -317.5      -7 621\n",
       "2024-01-10 00:00:00             -319.1      -7 658\n",
       "..                                  ..          ..\n",
       "2024-12-23 00:00:00             -309.5      -7 428\n",
       "2024-12-24 00:00:00             -317.4      -7 617\n",
       "2024-12-25 00:00:00             -315.7      -7 577\n",
       "2024-12-26 00:00:00             -316.8      -7 603\n",
       "2024-12-27 00:00:00             -317.7      -7 625\n",
       "2024-12-28 00:00:00             -311.3      -7 472\n",
       "2024-12-29 00:00:00             -298.0      -7 152\n",
       "2024-12-30 00:00:00             -311.0      -7 464\n",
       "2024-12-31 00:00:00             -319.6      -7 670"
      ]
     },
     "execution_count": 12,
     "metadata": {},
     "output_type": "execute_result"
    }
   ],
   "source": [
    "offtake - pf.Q_(0.2, \"GW\")"
   ]
  },
  {
   "cell_type": "markdown",
   "metadata": {},
   "source": [
    "Alternatively, if we prefer to work with floats, we could also use a dictionary to specify the power, like so: ``offtake - {\"q\": 200}``. In this case, it is assumed that our value is in the default unit.\n",
    "\n",
    "### Multiplying / Dividing with fixed factor\n",
    "\n",
    "Likewise we can multiply the data with a factor. If the offtake increases to 120%, we get"
   ]
  },
  {
   "cell_type": "code",
   "execution_count": 13,
   "metadata": {},
   "outputs": [
    {
     "data": {
      "text/plain": [
       "PfLine object with volume information.\n",
       ". Start: 2024-01-01 00:00:00 (incl)    . Timezone    : none  \n",
       ". End  : 2025-01-01 00:00:00 (excl)    . Start-of-day: 00:00:00  \n",
       ". Freq : <Day> (366 datapoints)\n",
       "                                     w           q\n",
       "                                    MW         MWh\n",
       "\n",
       "2024-01-01 00:00:00             -131.4      -3 153\n",
       "2024-01-02 00:00:00             -140.9      -3 381\n",
       "2024-01-03 00:00:00             -143.3      -3 439\n",
       "2024-01-04 00:00:00             -140.1      -3 363\n",
       "2024-01-05 00:00:00             -143.4      -3 442\n",
       "2024-01-06 00:00:00             -132.9      -3 190\n",
       "2024-01-07 00:00:00             -121.1      -2 906\n",
       "2024-01-08 00:00:00             -136.1      -3 266\n",
       "2024-01-09 00:00:00             -141.0      -3 385\n",
       "2024-01-10 00:00:00             -142.9      -3 429\n",
       "..                                  ..          ..\n",
       "2024-12-23 00:00:00             -131.4      -3 153\n",
       "2024-12-24 00:00:00             -140.9      -3 381\n",
       "2024-12-25 00:00:00             -138.9      -3 333\n",
       "2024-12-26 00:00:00             -140.1      -3 363\n",
       "2024-12-27 00:00:00             -141.2      -3 390\n",
       "2024-12-28 00:00:00             -133.6      -3 207\n",
       "2024-12-29 00:00:00             -117.6      -2 823\n",
       "2024-12-30 00:00:00             -133.2      -3 197\n",
       "2024-12-31 00:00:00             -143.5      -3 444"
      ]
     },
     "execution_count": 13,
     "metadata": {},
     "output_type": "execute_result"
    }
   ],
   "source": [
    "offtake * 1.2"
   ]
  },
  {
   "cell_type": "markdown",
   "metadata": {},
   "source": [
    "### Arithmatic using timeseries\n",
    "\n",
    "We don't have to use uniform values: we can also use other timeseries as operands. For example, if we expect a steady increase of the offtake, we can create a timeseries like this:"
   ]
  },
  {
   "cell_type": "code",
   "execution_count": 14,
   "metadata": {},
   "outputs": [
    {
     "data": {
      "text/plain": [
       "2024-01-01    0.000000\n",
       "2024-01-02    0.002055\n",
       "2024-01-03    0.004110\n",
       "2024-01-04    0.006164\n",
       "2024-01-05    0.008219\n",
       "                ...   \n",
       "2024-12-27    0.741781\n",
       "2024-12-28    0.743836\n",
       "2024-12-29    0.745890\n",
       "2024-12-30    0.747945\n",
       "2024-12-31    0.750000\n",
       "Freq: D, Length: 366, dtype: float64"
      ]
     },
     "execution_count": 14,
     "metadata": {},
     "output_type": "execute_result"
    }
   ],
   "source": [
    "yearfraction = (index - index[0]) / (\n",
    "    index[-1] - index[0]\n",
    ")  # values from 0 at start of index to 1 at end\n",
    "increase = pd.Series(yearfraction * 0.75, index)\n",
    "increase"
   ]
  },
  {
   "cell_type": "markdown",
   "metadata": {},
   "source": [
    "... which can be multiplied with the offtake in the following way, to increase the offtake with a varying percentage, that ranges from +0% on Jan 01 to +75% on Dec. 31:"
   ]
  },
  {
   "cell_type": "code",
   "execution_count": 15,
   "metadata": {},
   "outputs": [
    {
     "data": {
      "image/png": "[encoded data removed]",
      "text/plain": [
       "<Figure size 720x216 with 1 Axes>"
      ]
     },
     "metadata": {
      "needs_background": "light"
     },
     "output_type": "display_data"
    }
   ],
   "source": [
    "more_offtake = offtake * (1 + increase)\n",
    "more_offtake.plot();"
   ]
  },
  {
   "cell_type": "markdown",
   "metadata": {},
   "source": [
    "### Combining volume and price\n",
    "\n",
    "We can also combine the offtake volume with a price, which gives us a price-and-volume portfolio line. We can use fixed values, like here:"
   ]
  },
  {
   "cell_type": "code",
   "execution_count": 16,
   "metadata": {},
   "outputs": [
    {
     "data": {
      "text/plain": [
       "PfLine object with price and volume information.\n",
       ". Start: 2024-01-01 00:00:00 (incl)    . Timezone    : none  \n",
       ". End  : 2025-01-01 00:00:00 (excl)    . Start-of-day: 00:00:00  \n",
       ". Freq : <Day> (366 datapoints)\n",
       "                                     w           q           p             r\n",
       "                                    MW         MWh     Eur/MWh           Eur\n",
       "\n",
       "2024-01-01 00:00:00             -109.5      -2 628      110.00      -289 042\n",
       "2024-01-02 00:00:00             -117.4      -2 818      110.00      -309 961\n",
       "2024-01-03 00:00:00             -119.4      -2 866      110.00      -315 245\n",
       "2024-01-04 00:00:00             -116.8      -2 803      110.00      -308 300\n",
       "2024-01-05 00:00:00             -119.5      -2 868      110.00      -315 511\n",
       "2024-01-06 00:00:00             -110.8      -2 659      110.00      -292 440\n",
       "2024-01-07 00:00:00             -100.9      -2 422      110.00      -266 384\n",
       "2024-01-08 00:00:00             -113.4      -2 721      110.00      -299 346\n",
       "2024-01-09 00:00:00             -117.5      -2 821      110.00      -310 308\n",
       "2024-01-10 00:00:00             -119.1      -2 858      110.00      -314 336\n",
       "..                                  ..          ..          ..            ..\n",
       "2024-12-23 00:00:00             -109.5      -2 628      110.00      -289 036\n",
       "2024-12-24 00:00:00             -117.4      -2 817      110.00      -309 903\n",
       "2024-12-25 00:00:00             -115.7      -2 777      110.00      -305 507\n",
       "2024-12-26 00:00:00             -116.8      -2 803      110.00      -308 292\n",
       "2024-12-27 00:00:00             -117.7      -2 825      110.00      -310 737\n",
       "2024-12-28 00:00:00             -111.3      -2 672      110.00      -293 934\n",
       "2024-12-29 00:00:00              -98.0      -2 352      110.00      -258 742\n",
       "2024-12-30 00:00:00             -111.0      -2 664      110.00      -293 081\n",
       "2024-12-31 00:00:00             -119.6      -2 870      110.00      -315 665"
      ]
     },
     "execution_count": 16,
     "metadata": {},
     "output_type": "execute_result"
    }
   ],
   "source": [
    "offtake * pf.Q_(11, \"ctEur/kWh\")"
   ]
  },
  {
   "cell_type": "markdown",
   "metadata": {},
   "source": [
    "... or timeseries or other ``PfLine`` instances, like here:"
   ]
  },
  {
   "cell_type": "code",
   "execution_count": 17,
   "metadata": {},
   "outputs": [],
   "source": [
    "valued_offtake = offtake * prices  # multiplying two PfLines"
   ]
  },
  {
   "cell_type": "markdown",
   "metadata": {},
   "source": [
    "The resulting portfolio lines can again be resampled:"
   ]
  },
  {
   "cell_type": "code",
   "execution_count": 18,
   "metadata": {},
   "outputs": [
    {
     "data": {
      "text/plain": [
       "PfLine object with price and volume information.\n",
       ". Start: 2024-01-01 00:00:00 (incl)    . Timezone    : none  \n",
       ". End  : 2025-01-01 00:00:00 (excl)    . Start-of-day: 00:00:00  \n",
       ". Freq : <QuarterBegin: startingMonth=1> (4 datapoints)\n",
       "                                     w           q           p             r\n",
       "                                    MW         MWh     Eur/MWh           Eur\n",
       "\n",
       "2024-01-01 00:00:00             -110.0    -240 325      121.14   -29 111 995\n",
       "2024-04-01 00:00:00              -85.4    -186 608       83.12   -15 509 925\n",
       "2024-07-01 00:00:00              -78.5    -173 366       79.27   -13 743 550\n",
       "2024-10-01 00:00:00             -103.2    -227 849      118.09   -26 907 440"
      ]
     },
     "execution_count": 18,
     "metadata": {},
     "output_type": "execute_result"
    }
   ],
   "source": [
    "valued_offtake.asfreq(\"QS\")"
   ]
  },
  {
   "cell_type": "markdown",
   "metadata": {},
   "source": [
    "Note that, even though ``prices`` and ``valued_offtake`` use the same price values at the daily resolution, the prices at quarterly resolution are slightly different. This is not an error: the values in ``prices`` are simply averaged (or actually, weighted with the duration of each timestamp, but those are uniform), whereas the values in ``valued_offtake`` are weighted with the energy in each timestamp.\n",
    "\n",
    "This tutorial is continued [in part 2](part2.ipynb)."
   ]
  },
  {
   "cell_type": "markdown",
   "metadata": {},
   "source": []
  }
 ],
 "metadata": {
  "kernelspec": {
   "display_name": "Python 3.8.13 ('pf38')",
   "language": "python",
   "name": "python3"
  },
  "language_info": {
   "codemirror_mode": {
    "name": "ipython",
    "version": 3
   },
   "file_extension": ".py",
   "mimetype": "text/x-python",
   "name": "python",
   "nbconvert_exporter": "python",
   "pygments_lexer": "ipython3",
   "version": "3.8.13"
  },
  "orig_nbformat": 4,
  "vscode": {
   "interpreter": {
    "hash": "642a4be8010ca5d45039b988c1d8379a91572488c4d23a0b88e966c6713c7e45"
   }
  }
 },
 "nbformat": 4,
 "nbformat_minor": 2
}
