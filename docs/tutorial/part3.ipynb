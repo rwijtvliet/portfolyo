{
    "cells": [
        {
            "cell_type": "markdown",
            "metadata": {},
            "source": [
                "# Tutorial part 3\n",
                "\n",
                "In [part 1](part1.ipynb) and [part 2](part2.ipynb) we have learnt about portfolio lines. These are timeseries, or collections of timeseries, describing the volumes and/or prices during various delivery periods.\n",
                "\n",
                "In this part, we'll combine portfolio lines into a \"portfolio state\" (``PfState``) object. As we'll see, some of the methods and properties we know from the ``PfLine`` class also apply here.\n",
                "\n",
                "\n",
                "## Example data\n",
                "\n",
                "Let's again use the mock functions to get some portfolio lines. (The parameter details here are not important, we just want some more-or-less realistic data). To change things up a bit from the previous tutorial parts, we'll look at about 80 days in the autumn of 2024, in quarterhourly (``\"15T\"``) resolution. And let's localize the data to a specific timezone:"
            ]
        },
        {
            "cell_type": "code",
            "execution_count": 2,
            "metadata": {},
            "outputs": [],
            "source": [
                "import portfolyo as pf\n",
                "import pandas as pd\n",
                "\n",
                "index = pd.date_range('2024-09-20', '2024-12-10', freq='15T', inclusive='left', tz='Europe/Berlin')\n",
                "# Creating offtake portfolio line.\n",
                "ts_offtake = -1 * pf.dev.w_offtake(index, avg=50)\n",
                "offtake = pf.PfLine({'w': ts_offtake})\n",
                "# Creating portfolio line with market prices (here: price-forward curve).\n",
                "ts_prices = pf.dev.p_marketprices(index, avg=200)\n",
                "prices = pf.PfLine({'p': ts_prices})\n",
                "\n",
                "# Creating portfolio line with sourced volume.\n",
                "ts_sourced_power1, ts_sourced_price1 = pf.dev.wp_sourced(ts_offtake, 'QS', 0.3, p_avg=120)\n",
                "sourced_quarters = pf.PfLine({'w': ts_sourced_power1, 'p': ts_sourced_price1})\n",
                "ts_sourced_power2, ts_sourced_price2 = pf.dev.wp_sourced(ts_offtake, 'MS', 0.2, p_avg=150)\n",
                "sourced_months = pf.PfLine({'w': ts_sourced_power2, 'p': ts_sourced_price2})\n",
                "sourced = pf.PfLine({'quarter_products': sourced_quarters, 'month_products': sourced_months})"
            ]
        },
        {
            "cell_type": "markdown",
            "metadata": {},
            "source": [
                "We can now use these portfolio lines to create a portfolio state.\n",
                "\n",
                "## Portfolio State\n",
                "\n",
                "The ``PfState`` class is used to hold information about offtake, market prices, and sourcing. Let's create one from the portfolio lines we just created:"
            ]
        },
        {
            "cell_type": "code",
            "execution_count": 3,
            "metadata": {},
            "outputs": [
                {
                    "data": {
                        "text/plain": [
                            "PfState object.\n",
                            ". Timestamps: first: 2024-09-20 00:00:00+02:00     timezone: Europe/Berlin\n",
                            "               last: 2024-12-09 23:45:00+01:00         freq: <15 * Minutes> (7780 datapoints)\n",
                            "                                                w           q           p             r\n",
                            "                                               MW         MWh     Eur/MWh           Eur\n",
                            "──────── offtake\n",
                            "           2024-09-20 00:00:00 +0200        -45.8         -11                          \n",
                            "           2024-09-20 00:15:00 +0200        -44.3         -11                          \n",
                            "           ..                                  ..          ..          ..            ..\n",
                            "           2024-12-09 23:30:00 +0100        -60.7         -15                          \n",
                            "           2024-12-09 23:45:00 +0100        -58.2         -15                          \n",
                            "─●────── pnl_cost\n",
                            " │         2024-09-20 00:00:00 +0200         45.8          11      145.91         1 671\n",
                            " │         2024-09-20 00:15:00 +0200         44.3          11      144.46         1 601\n",
                            " │         ..                                  ..          ..          ..            ..\n",
                            " │         2024-12-09 23:30:00 +0100         60.7          15      200.33         3 039\n",
                            " │         2024-12-09 23:45:00 +0100         58.2          15      201.48         2 933\n",
                            " ├●───── sourced\n",
                            " ││        2024-09-20 00:00:00 +0200         26.7           7      150.26         1 005\n",
                            " ││        2024-09-20 00:15:00 +0200         26.7           7      150.26         1 005\n",
                            " ││        ..                                  ..          ..          ..            ..\n",
                            " ││        2024-12-09 23:30:00 +0100         25.8           6      163.19         1 054\n",
                            " ││        2024-12-09 23:45:00 +0100         25.8           6      163.19         1 054\n",
                            " │├───── quarter_products\n",
                            " ││        2024-09-20 00:00:00 +0200         12.0           3      140.06           420\n",
                            " ││        2024-09-20 00:15:00 +0200         12.0           3      140.06           420\n",
                            " ││        ..                                  ..          ..          ..            ..\n",
                            " ││        2024-12-09 23:30:00 +0100          6.9           2      126.68           219\n",
                            " ││        2024-12-09 23:45:00 +0100          6.9           2      126.68           219\n",
                            " │└───── month_products\n",
                            " │         2024-09-20 00:00:00 +0200         14.7           4      158.56           584\n",
                            " │         2024-09-20 00:15:00 +0200         14.7           4      158.56           584\n",
                            " │         ..                                  ..          ..          ..            ..\n",
                            " │         2024-12-09 23:30:00 +0100         18.9           5      176.52           835\n",
                            " │         2024-12-09 23:45:00 +0100         18.9           5      176.52           835\n",
                            " └────── unsourced\n",
                            "           2024-09-20 00:00:00 +0200         19.1           5      139.81           666\n",
                            "           2024-09-20 00:15:00 +0200         17.6           4      135.64           597\n",
                            "           ..                                  ..          ..          ..            ..\n",
                            "           2024-12-09 23:30:00 +0100         34.8           9      227.88         1 985\n",
                            "           2024-12-09 23:45:00 +0100         32.4           8      232.05         1 879"
                        ]
                    },
                    "execution_count": 3,
                    "metadata": {},
                    "output_type": "execute_result"
                }
            ],
            "source": [
                "pfs = pf.PfState(offtake, prices, sourced)\n",
                "\n",
                "pfs"
            ]
        },
        {
            "cell_type": "markdown",
            "metadata": {},
            "source": [
                "Note from how these portfolio lines were created, that ``offtake`` has negative values. The sign conventions are discussed [here](../core/pfstate.rst#sign-conventions).\n",
                "\n",
                "This portfolio state contains values for every quarterhour in the specified time period. Let's see what features this class has, starting with two methods we already met when discussing the ``PfLine`` class.\n",
                "\n",
                "### Plotting\n",
                "\n",
                "Just as when working with portfolio lines, we can get a quick overview of the portfolio state with the ``.plot()`` method..."
            ]
        },
        {
            "cell_type": "code",
            "execution_count": 4,
            "metadata": {},
            "outputs": [
                {
                    "data": {
                        "image/png": "[encoded data removed]",
                        "text/plain": [
                            "<Figure size 720x432 with 4 Axes>"
                        ]
                    },
                    "metadata": {
                        "needs_background": "light"
                    },
                    "output_type": "display_data"
                }
            ],
            "source": [
                "pfs.plot();"
            ]
        },
        {
            "cell_type": "markdown",
            "metadata": {},
            "source": [
                "...and we can copy its data to the clipboard, or save it as an Excel workbook:"
            ]
        },
        {
            "cell_type": "code",
            "execution_count": 5,
            "metadata": {},
            "outputs": [],
            "source": [
                "pfs.to_clipboard()\n",
                "pfs.to_excel('portfolio_state.xlsx')"
            ]
        },
        {
            "cell_type": "markdown",
            "metadata": {},
            "source": [
                "Looking at the offtake, we can see the daily and weekly cycles, as well as a slow increase over the entire time period.\n",
                "\n",
                "This graph is a bit too detailed for most purposes, so let's look at the second method we know from ``PfLine``: resampling.\n",
                "\n",
                "### Resampling\n",
                "\n",
                "We might prefer to see hourly, daily, or monthly values instead of the quarterhourly values that are in ``pfs``. For this, we can resample the object with the ``.asfreq()`` method. In this code example, we also use the ``.print()`` method, which adds some helpful coloring to the output:"
            ]
        },
        {
            "cell_type": "code",
            "execution_count": 6,
            "metadata": {},
            "outputs": [
                {
                    "name": "stdout",
                    "output_type": "stream",
                    "text": [
                        "PfState object.\n",
                        ". Timestamps: first: 2024-10-01 00:00:00+02:00     timezone: Europe/Berlin\n",
                        "               last: 2024-11-01 00:00:00+01:00         freq: <MonthBegin> (2 datapoints)\n",
                        "                                                w           q           p             r\n",
                        "                                               MW         MWh     Eur/MWh           Eur\n",
                        "\u001b[1m\u001b[37m──────── offtake\n",
                        "  \u001b[1m\u001b[37m         \u001b[0m2024-10-01 00:00:00 +0200        -54.7     -40 738                          \n",
                        "  \u001b[1m\u001b[37m         \u001b[0m2024-11-01 00:00:00 +0100        -59.3     -42 728                          \n",
                        "\u001b[1m\u001b[37m─\u001b[1m\u001b[33m●\u001b[1m\u001b[37m────── pnl_cost\n",
                        " \u001b[1m\u001b[33m│\u001b[1m\u001b[37m         \u001b[0m2024-10-01 00:00:00 +0200         54.7      40 738      170.82     6 958 680\n",
                        " \u001b[1m\u001b[33m│\u001b[1m\u001b[37m         \u001b[0m2024-11-01 00:00:00 +0100         59.3      42 728      199.21     8 511 962\n",
                        " \u001b[1m\u001b[33m├\u001b[1m\u001b[36m●\u001b[1m\u001b[33m───── sourced\n",
                        " \u001b[1m\u001b[33m│\u001b[1m\u001b[36m│\u001b[1m\u001b[33m        \u001b[0m2024-10-01 00:00:00 +0200         24.8      18 475      138.73     2 562 984\n",
                        " \u001b[1m\u001b[33m│\u001b[1m\u001b[36m│\u001b[1m\u001b[33m        \u001b[0m2024-11-01 00:00:00 +0100         22.7      16 335      153.46     2 506 653\n",
                        " \u001b[1m\u001b[33m│\u001b[1m\u001b[36m├───── quarter_products\n",
                        " \u001b[1m\u001b[33m│\u001b[1m\u001b[36m│ \u001b[1m\u001b[36m       \u001b[0m2024-10-01 00:00:00 +0200          8.7       6 475      120.59       780 827\n",
                        " \u001b[1m\u001b[33m│\u001b[1m\u001b[36m│ \u001b[1m\u001b[36m       \u001b[0m2024-11-01 00:00:00 +0100          8.6       6 187      120.86       747 775\n",
                        " \u001b[1m\u001b[33m│\u001b[1m\u001b[36m└───── month_products\n",
                        " \u001b[1m\u001b[33m│  \u001b[1m\u001b[36m       \u001b[0m2024-10-01 00:00:00 +0200         16.1      12 000      148.52     1 782 158\n",
                        " \u001b[1m\u001b[33m│  \u001b[1m\u001b[36m       \u001b[0m2024-11-01 00:00:00 +0100         14.1      10 148      173.33     1 758 879\n",
                        " \u001b[1m\u001b[33m└────── unsourced\n",
                        "   \u001b[1m\u001b[33m        \u001b[0m2024-10-01 00:00:00 +0200         29.9      22 263      197.44     4 395 695\n",
                        "   \u001b[1m\u001b[33m        \u001b[0m2024-11-01 00:00:00 +0100         36.7      26 393      227.53     6 005 309\n"
                    ]
                }
            ],
            "source": [
                "pfs_monthly = pfs.asfreq('MS')\n",
                "pfs_monthly.print()"
            ]
        },
        {
            "cell_type": "markdown",
            "metadata": {},
            "source": [
                "Note how the resampled output only contains those months, that are *entirely* included in the original data. ``pfl`` has data in September and December, but as these are not present in their entirety, they are dropped from ``pfl_monthly``.\n",
                "\n",
                "### On frequencies and unsourced prices\n",
                "\n",
                "There is one other important consequence of resampling: the unsourced prices are now *specific for this portfolio*. We can demonstrate this by creating a second portfolio state, using the *same price-forward curve* (but different offtake and sourced volume):"
            ]
        },
        {
            "cell_type": "code",
            "execution_count": 7,
            "metadata": {},
            "outputs": [],
            "source": [
                "pfs2 = pf.PfState(offtake*1.5, prices, sourced*2)"
            ]
        },
        {
            "cell_type": "markdown",
            "metadata": {},
            "source": [
                "At this shortest frequency, the unsourced prices are identical (namely, the price-forward curve). Let's create a dataframe with the prices to verify this:"
            ]
        },
        {
            "cell_type": "code",
            "execution_count": 8,
            "metadata": {},
            "outputs": [
                {
                    "data": {
                        "text/html": [
                            "<div>\n",
                            "<style scoped>\n",
                            "    .dataframe tbody tr th:only-of-type {\n",
                            "        vertical-align: middle;\n",
                            "    }\n",
                            "\n",
                            "    .dataframe tbody tr th {\n",
                            "        vertical-align: top;\n",
                            "    }\n",
                            "\n",
                            "    .dataframe thead th {\n",
                            "        text-align: right;\n",
                            "    }\n",
                            "</style>\n",
                            "<table border=\"1\" class=\"dataframe\">\n",
                            "  <thead>\n",
                            "    <tr style=\"text-align: right;\">\n",
                            "      <th></th>\n",
                            "      <th>pfs</th>\n",
                            "      <th>pfs2</th>\n",
                            "      <th>hpfc</th>\n",
                            "    </tr>\n",
                            "  </thead>\n",
                            "  <tbody>\n",
                            "    <tr>\n",
                            "      <th>2024-09-20 00:00:00+02:00</th>\n",
                            "      <td>139.80568207211454</td>\n",
                            "      <td>139.80568207211454</td>\n",
                            "      <td>139.80568207211454</td>\n",
                            "    </tr>\n",
                            "    <tr>\n",
                            "      <th>2024-09-20 00:15:00+02:00</th>\n",
                            "      <td>135.63901540544785</td>\n",
                            "      <td>135.63901540544785</td>\n",
                            "      <td>135.63901540544785</td>\n",
                            "    </tr>\n",
                            "    <tr>\n",
                            "      <th>2024-09-20 00:30:00+02:00</th>\n",
                            "      <td>131.47234873878116</td>\n",
                            "      <td>131.47234873878116</td>\n",
                            "      <td>131.47234873878116</td>\n",
                            "    </tr>\n",
                            "    <tr>\n",
                            "      <th>2024-09-20 00:45:00+02:00</th>\n",
                            "      <td>128.13901540544785</td>\n",
                            "      <td>128.13901540544785</td>\n",
                            "      <td>128.13901540544785</td>\n",
                            "    </tr>\n",
                            "    <tr>\n",
                            "      <th>2024-09-20 01:00:00+02:00</th>\n",
                            "      <td>124.80568207211451</td>\n",
                            "      <td>124.80568207211451</td>\n",
                            "      <td>124.80568207211451</td>\n",
                            "    </tr>\n",
                            "    <tr>\n",
                            "      <th>...</th>\n",
                            "      <td>...</td>\n",
                            "      <td>...</td>\n",
                            "      <td>...</td>\n",
                            "    </tr>\n",
                            "    <tr>\n",
                            "      <th>2024-12-09 22:45:00+01:00</th>\n",
                            "      <td>217.88078474854294</td>\n",
                            "      <td>217.88078474854294</td>\n",
                            "      <td>217.88078474854294</td>\n",
                            "    </tr>\n",
                            "    <tr>\n",
                            "      <th>2024-12-09 23:00:00+01:00</th>\n",
                            "      <td>221.2141180818763</td>\n",
                            "      <td>221.2141180818763</td>\n",
                            "      <td>221.2141180818763</td>\n",
                            "    </tr>\n",
                            "    <tr>\n",
                            "      <th>2024-12-09 23:15:00+01:00</th>\n",
                            "      <td>224.54745141520962</td>\n",
                            "      <td>224.54745141520962</td>\n",
                            "      <td>224.54745141520962</td>\n",
                            "    </tr>\n",
                            "    <tr>\n",
                            "      <th>2024-12-09 23:30:00+01:00</th>\n",
                            "      <td>227.88078474854294</td>\n",
                            "      <td>227.88078474854294</td>\n",
                            "      <td>227.88078474854294</td>\n",
                            "    </tr>\n",
                            "    <tr>\n",
                            "      <th>2024-12-09 23:45:00+01:00</th>\n",
                            "      <td>232.0474514152096</td>\n",
                            "      <td>232.0474514152096</td>\n",
                            "      <td>232.0474514152096</td>\n",
                            "    </tr>\n",
                            "  </tbody>\n",
                            "</table>\n",
                            "<p>7780 rows × 3 columns</p>\n",
                            "</div>"
                        ],
                        "text/plain": [
                            "                                          pfs                pfs2  \\\n",
                            "2024-09-20 00:00:00+02:00  139.80568207211454  139.80568207211454   \n",
                            "2024-09-20 00:15:00+02:00  135.63901540544785  135.63901540544785   \n",
                            "2024-09-20 00:30:00+02:00  131.47234873878116  131.47234873878116   \n",
                            "2024-09-20 00:45:00+02:00  128.13901540544785  128.13901540544785   \n",
                            "2024-09-20 01:00:00+02:00  124.80568207211451  124.80568207211451   \n",
                            "...                                       ...                 ...   \n",
                            "2024-12-09 22:45:00+01:00  217.88078474854294  217.88078474854294   \n",
                            "2024-12-09 23:00:00+01:00   221.2141180818763   221.2141180818763   \n",
                            "2024-12-09 23:15:00+01:00  224.54745141520962  224.54745141520962   \n",
                            "2024-12-09 23:30:00+01:00  227.88078474854294  227.88078474854294   \n",
                            "2024-12-09 23:45:00+01:00   232.0474514152096   232.0474514152096   \n",
                            "\n",
                            "                                         hpfc  \n",
                            "2024-09-20 00:00:00+02:00  139.80568207211454  \n",
                            "2024-09-20 00:15:00+02:00  135.63901540544785  \n",
                            "2024-09-20 00:30:00+02:00  131.47234873878116  \n",
                            "2024-09-20 00:45:00+02:00  128.13901540544785  \n",
                            "2024-09-20 01:00:00+02:00  124.80568207211451  \n",
                            "...                                       ...  \n",
                            "2024-12-09 22:45:00+01:00  217.88078474854294  \n",
                            "2024-12-09 23:00:00+01:00   221.2141180818763  \n",
                            "2024-12-09 23:15:00+01:00  224.54745141520962  \n",
                            "2024-12-09 23:30:00+01:00  227.88078474854294  \n",
                            "2024-12-09 23:45:00+01:00   232.0474514152096  \n",
                            "\n",
                            "[7780 rows x 3 columns]"
                        ]
                    },
                    "execution_count": 8,
                    "metadata": {},
                    "output_type": "execute_result"
                }
            ],
            "source": [
                "pd.DataFrame({'pfs': pfs.unsourcedprice.p, 'pfs2': pfs2.unsourcedprice.p, 'hpfc': prices.p})"
            ]
        },
        {
            "cell_type": "markdown",
            "metadata": {},
            "source": [
                "However, at every other frequency, they are not equal. When changing the frequency, a *volume-weighted* average is calculated for the unsourced prices - just like with every other price-and-volume timeseries. This makes that the unsourced prices apply only to the unsourced volume profile *of that portfolio*:"
            ]
        },
        {
            "cell_type": "code",
            "execution_count": 9,
            "metadata": {},
            "outputs": [
                {
                    "data": {
                        "text/html": [
                            "<div>\n",
                            "<style scoped>\n",
                            "    .dataframe tbody tr th:only-of-type {\n",
                            "        vertical-align: middle;\n",
                            "    }\n",
                            "\n",
                            "    .dataframe tbody tr th {\n",
                            "        vertical-align: top;\n",
                            "    }\n",
                            "\n",
                            "    .dataframe thead th {\n",
                            "        text-align: right;\n",
                            "    }\n",
                            "</style>\n",
                            "<table border=\"1\" class=\"dataframe\">\n",
                            "  <thead>\n",
                            "    <tr style=\"text-align: right;\">\n",
                            "      <th></th>\n",
                            "      <th>pfs</th>\n",
                            "      <th>pfs2</th>\n",
                            "      <th>hpfc</th>\n",
                            "    </tr>\n",
                            "  </thead>\n",
                            "  <tbody>\n",
                            "    <tr>\n",
                            "      <th>2024-10-01 00:00:00+02:00</th>\n",
                            "      <td>197.44209361856255</td>\n",
                            "      <td>194.21125167038778</td>\n",
                            "      <td>194.7888872946484</td>\n",
                            "    </tr>\n",
                            "    <tr>\n",
                            "      <th>2024-11-01 00:00:00+01:00</th>\n",
                            "      <td>227.5322423076994</td>\n",
                            "      <td>228.6315058046742</td>\n",
                            "      <td>220.07479863375985</td>\n",
                            "    </tr>\n",
                            "  </tbody>\n",
                            "</table>\n",
                            "</div>"
                        ],
                        "text/plain": [
                            "                                          pfs                pfs2  \\\n",
                            "2024-10-01 00:00:00+02:00  197.44209361856255  194.21125167038778   \n",
                            "2024-11-01 00:00:00+01:00   227.5322423076994   228.6315058046742   \n",
                            "\n",
                            "                                         hpfc  \n",
                            "2024-10-01 00:00:00+02:00   194.7888872946484  \n",
                            "2024-11-01 00:00:00+01:00  220.07479863375985  "
                        ]
                    },
                    "execution_count": 9,
                    "metadata": {},
                    "output_type": "execute_result"
                }
            ],
            "source": [
                "pd.DataFrame({'pfs': pfs.asfreq('MS').unsourcedprice.p, 'pfs2': pfs2.asfreq('MS').unsourcedprice.p, 'hpfc': prices.asfreq('MS').p})"
            ]
        },
        {
            "cell_type": "markdown",
            "metadata": {},
            "source": [
                "This has important consequences. \n",
                "\n",
                "For example, when doing a scenario analysis in which the unsourced volume is changed (e.g. \"what happens if the offtake increases by 50%?\"), we cannot expect the results to be correct *unless we are working at the original frequency*. In situations where it is clear that this error looms, a ``UserWarning`` is shown to alert the user (e.g. in the examples further below). For more information on unsourced volume, [see this section](../core/pfstate.rst#Unsourced-price) in the documentation on the `PfState` class.\n",
                "\n",
                "For this reason, we commonly work with our porfolio states at the frequency of the price-forward curve. Downsampling is only done to see the aggregated values for verification or reporting."
            ]
        },
        {
            "cell_type": "markdown",
            "metadata": {},
            "source": [
                "### Components\n",
                "\n",
                "Now, let's look at the portfolio state ``pfs_monthly`` in a bit more detail, to learn more about the ``PfState`` class.\n",
                "\n",
                "The portfolio state is presented to us as a tree structure, with several branches. Each branch is a portfolio line. E.g, ``offtake`` and ``sourced`` are the portfolio lines we specified when creating the object. Also, the branch ``pnl_cost`` is the sum of ``sourced`` and ``unsourced``, with ``sourced`` being the sum of ``quarter_products`` and ``month_products``. \n",
                "\n",
                "The unsourced volume is found by comparing the offtake to what is already sourced. This volume is valued at the market prices in the forward curve.\n",
                "\n",
                "These portfolio lines can be obtained from the portfolio state by accessing them as attributes. E.g. ``.offtakevolume``, ``.sourced``, ``.unsourced``, or ``.pnl_cost``. The latter is the best estimate for what it will cost to procure the offtake:"
            ]
        },
        {
            "cell_type": "code",
            "execution_count": 10,
            "metadata": {},
            "outputs": [
                {
                    "data": {
                        "text/plain": [
                            "PfLine object with price and volume information.\n",
                            ". Timestamps: first: 2024-10-01 00:00:00+02:00     timezone: Europe/Berlin\n",
                            "               last: 2024-11-01 00:00:00+01:00         freq: <MonthBegin> (2 datapoints)\n",
                            ". Children: 'sourced' (price and volume), 'unsourced' (price and volume)\n",
                            "                                     w           q           p             r\n",
                            "                                    MW         MWh     Eur/MWh           Eur\n",
                            "\n",
                            "2024-10-01 00:00:00 +0200         54.7      40 738      170.82     6 958 680\n",
                            "2024-11-01 00:00:00 +0100         59.3      42 728      199.21     8 511 962"
                        ]
                    },
                    "execution_count": 10,
                    "metadata": {},
                    "output_type": "execute_result"
                }
            ],
            "source": [
                "pfs_monthly.pnl_cost"
            ]
        },
        {
            "cell_type": "markdown",
            "metadata": {},
            "source": [
                "Notice that this portfolio line has children, and as a reminder, we can \"drill into\" the object to get these nested portfolio line, e.g. with ``pfl_monthly.pnl_cost[\"sourced\"]``.\n",
                "\n",
                "There are some other components that are not explicitly shown:\n",
                "\n",
                "* We may be interested in how much of the offtake has already been sourced or unsourced. These fractions are available at the ``.sourcedfraction`` and ``.unsourcedfraction`` properties.\n",
                "\n",
                "* You may have noticed that ``unsourced`` is the inverse from what traders would call the \"open positions\" or \"portfolio positions\": if our portfolio is short, the unsourced volume is positive. For those that prefer this other perspective, it is available at ``.netposition``.\n",
                "\n",
                "### Export\n",
                "\n",
                "Just as with portfolio lines, we can create an excel file that contains all the information in a portfolio state with its ``.to_excel()`` method, and we can copy it to the clipboard with the ``.to_clipboard()`` method.\n",
                "\n",
                "### MtM\n",
                "\n",
                "We can evaluate the value of our sourcing contracts against the current forward curve (\"mark-to-market\") with the ``.mtm_of_sourced()`` method."
            ]
        },
        {
            "cell_type": "markdown",
            "metadata": {},
            "source": [
                "## Analyses with portfolio states\n",
                "\n",
                "We'll now look at how we can do \"what-if\" analyses with portfolio state. The original portfolio state we will consider as the reference and store it in an appropriately named variable:"
            ]
        },
        {
            "cell_type": "code",
            "execution_count": 11,
            "metadata": {},
            "outputs": [],
            "source": [
                "ref = pfs"
            ]
        },
        {
            "cell_type": "markdown",
            "metadata": {},
            "source": [
                "The monthly procurement prices of this portfolio are what interest us the most. As a reminder, we can find the procurement volumes and costs with:"
            ]
        },
        {
            "cell_type": "code",
            "execution_count": 12,
            "metadata": {},
            "outputs": [
                {
                    "data": {
                        "text/plain": [
                            "PfLine object with price and volume information.\n",
                            ". Timestamps: first: 2024-10-01 00:00:00+02:00     timezone: Europe/Berlin\n",
                            "               last: 2024-11-01 00:00:00+01:00         freq: <MonthBegin> (2 datapoints)\n",
                            ". Children: 'sourced' (price and volume), 'unsourced' (price and volume)\n",
                            "                                     w           q           p             r\n",
                            "                                    MW         MWh     Eur/MWh           Eur\n",
                            "\n",
                            "2024-10-01 00:00:00 +0200         54.7      40 738      170.82     6 958 680\n",
                            "2024-11-01 00:00:00 +0100         59.3      42 728      199.21     8 511 962"
                        ]
                    },
                    "execution_count": 12,
                    "metadata": {},
                    "output_type": "execute_result"
                }
            ],
            "source": [
                "cost_ref = ref.asfreq('MS').pnl_cost\n",
                "cost_ref"
            ]
        },
        {
            "cell_type": "markdown",
            "metadata": {},
            "source": [
                "(Or we could go one step further and focus on only the prices with ``ref.asfreq(\"MS\").pnl_cost.p``.)\n",
                "\n",
                "### Change in offtake\n",
                "\n",
                "Now, what would happen if the offtake were to increase by 25%? Qualitatively, this is not hard. An increase in the offtake increases the unsourced volume. And because the market prices are higher than what we pay for the sourced volume, this means that the procurement price will go up. \n",
                "\n",
                "How much? Let's see. First, we create a new portfolio state, from the reference, by setting the offtake to the new value. We can do this with the ``.set_offtake()`` method. After that, we can again see what the procurement volumes and costs are. (Note the ``UserWarning`` which was mentioned [above](#on-frequencies-and-unsourced-pricesE).)"
            ]
        },
        {
            "cell_type": "code",
            "execution_count": 13,
            "metadata": {},
            "outputs": [
                {
                    "name": "stderr",
                    "output_type": "stream",
                    "text": [
                        "c:\\users\\ruud.wijtvliet\\ruud\\python\\dev\\portfolyo\\portfolyo\\core\\pfstate\\pfstate.py:191: UserWarning: This operation changes the unsourced volume. This causes inaccuracies in its price if the portfolio has a frequency that is longer than the spot market.\n",
                        "  warnings.warn(\n"
                    ]
                },
                {
                    "data": {
                        "text/plain": [
                            "PfLine object with price and volume information.\n",
                            ". Timestamps: first: 2024-10-01 00:00:00+02:00     timezone: Europe/Berlin\n",
                            "               last: 2024-11-01 00:00:00+01:00         freq: <MonthBegin> (2 datapoints)\n",
                            ". Children: 'sourced' (price and volume), 'unsourced' (price and volume)\n",
                            "                                     w           q           p             r\n",
                            "                                    MW         MWh     Eur/MWh           Eur\n",
                            "\n",
                            "2024-10-01 00:00:00 +0200         68.4      50 922      176.91     9 008 547\n",
                            "2024-11-01 00:00:00 +0100         74.2      53 410      204.55    10 925 184"
                        ]
                    },
                    "execution_count": 13,
                    "metadata": {},
                    "output_type": "execute_result"
                }
            ],
            "source": [
                "higherofftake = ref.offtakevolume * 1.25\n",
                "pfs_higherofftake = ref.set_offtakevolume(higherofftake)\n",
                "cost_higherofftake = pfs_higherofftake.asfreq(\"MS\").pnl_cost\n",
                "cost_higherofftake"
            ]
        },
        {
            "cell_type": "markdown",
            "metadata": {},
            "source": [
                "Comparing these two ``cost`` portfolio lines, we see that indeed the values for ``w`` and ``q`` have increased to 125% of the original values. Also, the procurement prices have increased. We can quickly calculate by how much:"
            ]
        },
        {
            "cell_type": "code",
            "execution_count": 14,
            "metadata": {},
            "outputs": [
                {
                    "data": {
                        "text/plain": [
                            "2024-10-01 00:00:00+02:00    6.091580882097247\n",
                            "2024-11-01 00:00:00+01:00    5.340409968739635\n",
                            "Freq: MS, Name: p, dtype: pint[Eur/MWh]"
                        ]
                    },
                    "execution_count": 14,
                    "metadata": {},
                    "output_type": "execute_result"
                }
            ],
            "source": [
                "cost_higherofftake.p - cost_ref.p"
            ]
        },
        {
            "cell_type": "markdown",
            "metadata": {},
            "source": [
                "We could similarly create a portfolio states for situations with a market price drop of 40%. Or one which combines both effects:"
            ]
        },
        {
            "cell_type": "code",
            "execution_count": 15,
            "metadata": {},
            "outputs": [
                {
                    "name": "stderr",
                    "output_type": "stream",
                    "text": [
                        "c:\\users\\ruud.wijtvliet\\ruud\\python\\dev\\portfolyo\\portfolyo\\core\\pfstate\\pfstate.py:191: UserWarning: This operation changes the unsourced volume. This causes inaccuracies in its price if the portfolio has a frequency that is longer than the spot market.\n",
                        "  warnings.warn(\n"
                    ]
                }
            ],
            "source": [
                "lowerprices = ref.unsourcedprice * 0.6\n",
                "pfs_lowerprices = ref.set_unsourcedprice(lowerprices)\n",
                "pfs_lowerprices_higherofftake = ref.set_offtakevolume(higherofftake).set_unsourcedprice(lowerprices)"
            ]
        },
        {
            "cell_type": "markdown",
            "metadata": {},
            "source": [
                "## Hedging\n",
                "\n",
                "Hedging can reduce the sensitivity of our portfolio to changes in the market price. Given the current market price curve, we can calculate how much we'd need to source to obtain a fully hedged portfolio:"
            ]
        },
        {
            "cell_type": "code",
            "execution_count": 16,
            "metadata": {},
            "outputs": [],
            "source": [
                "needed = ref.hedge_of_unsourced(\"val\", \"MS\")  # value hedge with month products"
            ]
        },
        {
            "cell_type": "markdown",
            "metadata": {},
            "source": [
                "Let's say we procure exactly that volume. We can add it to the sourced volume in our portfolio state:"
            ]
        },
        {
            "cell_type": "code",
            "execution_count": 17,
            "metadata": {},
            "outputs": [
                {
                    "name": "stderr",
                    "output_type": "stream",
                    "text": [
                        "c:\\users\\ruud.wijtvliet\\ruud\\python\\dev\\portfolyo\\portfolyo\\core\\pfstate\\pfstate.py:201: UserWarning: This operation changes the unsourced volume. This causes inaccuracies in its price if the portfolio has a frequency that is longer than the spot market.\n",
                        "  warnings.warn(\n"
                    ]
                }
            ],
            "source": [
                "hedged = ref.add_sourced(pf.MultiPfLine({\"newvolume\": needed}))"
            ]
        },
        {
            "cell_type": "markdown",
            "metadata": {},
            "source": [
                "(We could have obtained the same result with the ``ref.source_unsourced()`` method.)\n",
                "\n",
                "The portfolio is now hedged at the month level. We can verify this by looking at the unsourced volume. In case of a volume hedge, the unsourced volume (``q`` and ``w``) is 0, even if its monetary value (``r``) is not; in case of a value hedge, it is the reverse:"
            ]
        },
        {
            "cell_type": "code",
            "execution_count": 18,
            "metadata": {},
            "outputs": [
                {
                    "data": {
                        "text/plain": [
                            "PfLine object with price and volume information.\n",
                            ". Timestamps: first: 2024-10-01 00:00:00+02:00     timezone: Europe/Berlin\n",
                            "               last: 2024-11-01 00:00:00+01:00         freq: <MonthBegin> (2 datapoints)\n",
                            "                                     w           q           p             r\n",
                            "                                    MW         MWh     Eur/MWh           Eur\n",
                            "\n",
                            "2024-10-01 00:00:00 +0200         -0.2        -173       -0.00             0\n",
                            "2024-11-01 00:00:00 +0100         -0.2        -134        0.00            -0"
                        ]
                    },
                    "execution_count": 18,
                    "metadata": {},
                    "output_type": "execute_result"
                }
            ],
            "source": [
                "hedged.asfreq('MS').unsourced"
            ]
        },
        {
            "cell_type": "markdown",
            "metadata": {},
            "source": [
                "Because the market prices have not changed, the best-estimate procurement prices (at month level and longer) are also unchanged from before. (This is verified in the \"before\" columns of the dataframe further below.)"
            ]
        },
        {
            "cell_type": "markdown",
            "metadata": {},
            "source": [
                "### Market price change\n",
                "\n",
                "A hedged profile is less impacted by market price changes. To see that this is indeed the case, let's look at a scenario with an increase in the forward price curve by 40 Eur/MWh, for both portfolio states:"
            ]
        },
        {
            "cell_type": "code",
            "execution_count": 19,
            "metadata": {},
            "outputs": [],
            "source": [
                "newprices = prices + pf.Q_(40, 'Eur/MWh')\n",
                "ref_higherprices = ref.set_unsourcedprice(newprices)\n",
                "hedged_higherprices = hedged.set_unsourcedprice(newprices)"
            ]
        },
        {
            "cell_type": "markdown",
            "metadata": {},
            "source": [
                "The reference portfolio has gotten a lot more expensive, whereas the procurement price for the hedged portfolio has not moved significantly:"
            ]
        },
        {
            "cell_type": "code",
            "execution_count": 20,
            "metadata": {},
            "outputs": [
                {
                    "data": {
                        "text/html": [
                            "<div>\n",
                            "<style scoped>\n",
                            "    .dataframe tbody tr th:only-of-type {\n",
                            "        vertical-align: middle;\n",
                            "    }\n",
                            "\n",
                            "    .dataframe tbody tr th {\n",
                            "        vertical-align: top;\n",
                            "    }\n",
                            "\n",
                            "    .dataframe thead tr th {\n",
                            "        text-align: left;\n",
                            "    }\n",
                            "</style>\n",
                            "<table border=\"1\" class=\"dataframe\">\n",
                            "  <thead>\n",
                            "    <tr>\n",
                            "      <th></th>\n",
                            "      <th colspan=\"2\" halign=\"left\">ref</th>\n",
                            "      <th colspan=\"2\" halign=\"left\">hedged</th>\n",
                            "    </tr>\n",
                            "    <tr>\n",
                            "      <th></th>\n",
                            "      <th>before</th>\n",
                            "      <th>after</th>\n",
                            "      <th>before</th>\n",
                            "      <th>after</th>\n",
                            "    </tr>\n",
                            "    <tr>\n",
                            "      <th>unit</th>\n",
                            "      <th>Eur/MWh</th>\n",
                            "      <th>Eur/MWh</th>\n",
                            "      <th>Eur/MWh</th>\n",
                            "      <th>Eur/MWh</th>\n",
                            "    </tr>\n",
                            "  </thead>\n",
                            "  <tbody>\n",
                            "    <tr>\n",
                            "      <th>2024-10-01 00:00:00+02:00</th>\n",
                            "      <td>170.815955</td>\n",
                            "      <td>192.675917</td>\n",
                            "      <td>170.815955</td>\n",
                            "      <td>170.646177</td>\n",
                            "    </tr>\n",
                            "    <tr>\n",
                            "      <th>2024-11-01 00:00:00+01:00</th>\n",
                            "      <td>199.213373</td>\n",
                            "      <td>223.921578</td>\n",
                            "      <td>199.213373</td>\n",
                            "      <td>199.087857</td>\n",
                            "    </tr>\n",
                            "  </tbody>\n",
                            "</table>\n",
                            "</div>"
                        ],
                        "text/plain": [
                            "                                  ref                  hedged            \n",
                            "                               before       after      before       after\n",
                            "unit                          Eur/MWh     Eur/MWh     Eur/MWh     Eur/MWh\n",
                            "2024-10-01 00:00:00+02:00  170.815955  192.675917  170.815955  170.646177\n",
                            "2024-11-01 00:00:00+01:00  199.213373  223.921578  199.213373  199.087857"
                        ]
                    },
                    "execution_count": 20,
                    "metadata": {},
                    "output_type": "execute_result"
                }
            ],
            "source": [
                "pd.DataFrame({\n",
                "    ('ref', 'before'): ref.pnl_cost.asfreq('MS').p, \n",
                "    ('ref', 'after'): ref_higherprices.pnl_cost.asfreq('MS').p, \n",
                "    ('hedged', 'before'): hedged.pnl_cost.asfreq('MS').p, \n",
                "    ('hedged', 'after'): hedged_higherprices.pnl_cost.asfreq('MS').p,\n",
                "}).pint.dequantify()"
            ]
        },
        {
            "cell_type": "markdown",
            "metadata": {},
            "source": [
                "For the observant reader: it may seem that the portfolio was not fully hedged after all, as a small change in the procurement price is seen. The reason is that each strategy (i.e., volume or value hedge) fully protects only against a specific price change (i.e., absolute or relative). A volume hedge does not *fully* hedge against an absolute price change such as the one we see here."
            ]
        },
        {
            "cell_type": "markdown",
            "metadata": {},
            "source": [
                "This tutorial is continued [in part 4](part4.ipynb)."
            ]
        }
    ],
    "metadata": {
        "kernelspec": {
            "display_name": "Python 3.8.13 ('pf38')",
            "language": "python",
            "name": "python3"
        },
        "language_info": {
            "codemirror_mode": {
                "name": "ipython",
                "version": 3
            },
            "file_extension": ".py",
            "mimetype": "text/x-python",
            "name": "python",
            "nbconvert_exporter": "python",
            "pygments_lexer": "ipython3",
            "version": "3.8.13"
        },
        "orig_nbformat": 4,
        "vscode": {
            "interpreter": {
                "hash": "642a4be8010ca5d45039b988c1d8379a91572488c4d23a0b88e966c6713c7e45"
            }
        }
    },
    "nbformat": 4,
    "nbformat_minor": 2
}
