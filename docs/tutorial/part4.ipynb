{
   "cells": [
      {
         "cell_type": "markdown",
         "metadata": {},
         "source": [
            "# Tutorial part 4\n",
            "\n",
            "In [part 3](part3.ipynb) we have learnt about portfolio states and how to use them in scenario analyses. Here we learn how to export them and how to combine several ones.\n",
            "\n",
            "## Example data\n",
            "\n",
            "We start with a similar portfolio state as in the previous part:"
         ]
      },
      {
         "cell_type": "code",
         "execution_count": 14,
         "metadata": {},
         "outputs": [
            {
               "name": "stdout",
               "output_type": "stream",
               "text": [
                  "PfState object.\n",
                  ". Timestamps: first: 2024-09-01 00:00:00+02:00     timezone: Europe/Berlin\n",
                  "               last: 2024-10-01 00:00:00+02:00         freq: <MonthBegin> (2 datapoints)\n",
                  "                                                w           q           p             r\n",
                  "                                               MW         MWh     Eur/MWh           Eur\n",
                  "\u001b[1m\u001b[37m──────── offtake\n",
                  "  \u001b[1m\u001b[37m         \u001b[0m2024-09-01 00:00:00 +0200        -49.4     -35 567                          \n",
                  "  \u001b[1m\u001b[37m         \u001b[0m2024-10-01 00:00:00 +0200        -54.7     -40 755                          \n",
                  "\u001b[1m\u001b[37m─\u001b[1m\u001b[33m●\u001b[1m\u001b[37m────── pnl_cost\n",
                  " \u001b[1m\u001b[33m│\u001b[1m\u001b[37m         \u001b[0m2024-09-01 00:00:00 +0200         49.4      35 567      139.52     4 962 224\n",
                  " \u001b[1m\u001b[33m│\u001b[1m\u001b[37m         \u001b[0m2024-10-01 00:00:00 +0200         54.7      40 755      162.33     6 615 777\n",
                  " \u001b[1m\u001b[33m├\u001b[1m\u001b[36m●\u001b[1m\u001b[33m───── sourced\n",
                  " \u001b[1m\u001b[33m│\u001b[1m\u001b[36m│\u001b[1m\u001b[33m        \u001b[0m2024-09-01 00:00:00 +0200         26.8      19 329      122.88     2 375 070\n",
                  " \u001b[1m\u001b[33m│\u001b[1m\u001b[36m│\u001b[1m\u001b[33m        \u001b[0m2024-10-01 00:00:00 +0200         33.8      25 185      135.03     3 400 658\n",
                  " \u001b[1m\u001b[33m│\u001b[1m\u001b[36m├───── quarter_products\n",
                  " \u001b[1m\u001b[33m│\u001b[1m\u001b[36m│ \u001b[1m\u001b[36m       \u001b[0m2024-09-01 00:00:00 +0200         19.6      14 085      120.59     1 698 568\n",
                  " \u001b[1m\u001b[33m│\u001b[1m\u001b[36m│ \u001b[1m\u001b[36m       \u001b[0m2024-10-01 00:00:00 +0200         16.9      12 602      129.33     1 629 909\n",
                  " \u001b[1m\u001b[33m│\u001b[1m\u001b[36m└───── month_products\n",
                  " \u001b[1m\u001b[33m│  \u001b[1m\u001b[36m       \u001b[0m2024-09-01 00:00:00 +0200          7.3       5 243      129.02       676 501\n",
                  " \u001b[1m\u001b[33m│  \u001b[1m\u001b[36m       \u001b[0m2024-10-01 00:00:00 +0200         16.9      12 582      140.73     1 770 749\n",
                  " \u001b[1m\u001b[33m└────── unsourced\n",
                  "   \u001b[1m\u001b[33m        \u001b[0m2024-09-01 00:00:00 +0200         22.6      16 238      159.32     2 587 155\n",
                  "   \u001b[1m\u001b[33m        \u001b[0m2024-10-01 00:00:00 +0200         20.9      15 571      206.48     3 215 119\n"
               ]
            }
         ],
         "source": [
            "import portfolyo as pf\n",
            "import pandas as pd\n",
            "\n",
            "index = pd.date_range(\n",
            "    \"2024-09-01\", \"2024-11-01\", freq=\"15T\", inclusive=\"left\", tz=\"Europe/Berlin\"\n",
            ")\n",
            "# Creating portfolio line with market prices (here: price-forward curve).\n",
            "ts_prices = pf.dev.p_marketprices(index, avg=200)\n",
            "prices = pf.PfLine({\"p\": ts_prices})\n",
            "\n",
            "\n",
            "# Creating offtake portfolio line.\n",
            "ts_offtake = -1 * pf.dev.w_offtake(index, avg=50)\n",
            "offtake = pf.PfLine({\"w\": ts_offtake})\n",
            "\n",
            "# Creating portfolio line with sourced volume.\n",
            "ts_sourced_power1, ts_sourced_price1 = pf.dev.wp_sourced(\n",
            "    ts_offtake, \"QS\", 0.3, p_avg=120\n",
            ")\n",
            "sourced_quarters = pf.PfLine({\"w\": ts_sourced_power1, \"p\": ts_sourced_price1})\n",
            "ts_sourced_power2, ts_sourced_price2 = pf.dev.wp_sourced(\n",
            "    ts_offtake, \"MS\", 0.2, p_avg=150\n",
            ")\n",
            "sourced_months = pf.PfLine({\"w\": ts_sourced_power2, \"p\": ts_sourced_price2})\n",
            "sourced = pf.PfLine(\n",
            "    {\"quarter_products\": sourced_quarters, \"month_products\": sourced_months}\n",
            ")\n",
            "\n",
            "# Create the portfolio state.\n",
            "pfs1 = pf.PfState(offtake, prices, sourced).asfreq('MS')\n",
            "\n",
            "pfs1.print()"
         ]
      },
      {
         "cell_type": "markdown",
         "metadata": {},
         "source": [
            "## Arithmatic\n",
            "\n",
            "The final part about portfolio lines is the arithmatic that can be done with them.\n",
            "\n",
            "Let's create a second portfolio state:"
         ]
      },
      {
         "cell_type": "code",
         "execution_count": 15,
         "metadata": {},
         "outputs": [
            {
               "name": "stdout",
               "output_type": "stream",
               "text": [
                  "PfState object.\n",
                  ". Timestamps: first: 2024-09-01 00:00:00+02:00     timezone: Europe/Berlin\n",
                  "               last: 2024-10-01 00:00:00+02:00         freq: <MonthBegin> (2 datapoints)\n",
                  "                                                w           q           p             r\n",
                  "                                               MW         MWh     Eur/MWh           Eur\n",
                  "\u001b[1m\u001b[37m──────── offtake\n",
                  "  \u001b[1m\u001b[37m         \u001b[0m2024-09-01 00:00:00 +0200        -98.8     -71 134                          \n",
                  "  \u001b[1m\u001b[37m         \u001b[0m2024-10-01 00:00:00 +0200       -109.4     -81 511                          \n",
                  "\u001b[1m\u001b[37m─\u001b[1m\u001b[33m●\u001b[1m\u001b[37m────── pnl_cost\n",
                  " \u001b[1m\u001b[33m│\u001b[1m\u001b[37m         \u001b[0m2024-09-01 00:00:00 +0200         98.8      71 134      118.76     8 447 804\n",
                  " \u001b[1m\u001b[33m│\u001b[1m\u001b[37m         \u001b[0m2024-10-01 00:00:00 +0200        109.4      81 511      131.98    10 757 781\n",
                  " \u001b[1m\u001b[33m├────── sourced\n",
                  " \u001b[1m\u001b[33m│ \u001b[1m\u001b[33m        \u001b[0m2024-09-01 00:00:00 +0200         80.0      57 600      100.00     5 760 000\n",
                  " \u001b[1m\u001b[33m│ \u001b[1m\u001b[33m        \u001b[0m2024-10-01 00:00:00 +0200         80.0      59 600      100.00     5 960 000\n",
                  " \u001b[1m\u001b[33m└────── unsourced\n",
                  "   \u001b[1m\u001b[33m        \u001b[0m2024-09-01 00:00:00 +0200         18.8      13 534      198.60     2 687 804\n",
                  "   \u001b[1m\u001b[33m        \u001b[0m2024-10-01 00:00:00 +0200         29.4      21 911      218.97     4 797 781\n"
               ]
            }
         ],
         "source": [
            "offtake2 = offtake * 2\n",
            "sourced2 = pf.PfLine(pd.DataFrame({\"w\": 80, \"p\": 100}, index))\n",
            "pfs2 = pf.PfState(offtake2, prices, sourced2).asfreq('MS')\n",
            "pfs2.print()"
         ]
      },
      {
         "cell_type": "markdown",
         "metadata": {},
         "source": [
            "Note that ``pfs1`` and ``pfs2`` have distinct unsourced prices at this month level, even though they were created using the same market prices on the quarter-hour level.\n",
            "\n",
            "### Addition and subtraction\n",
            "\n",
            "We can add these two portfolio states:"
         ]
      },
      {
         "cell_type": "code",
         "execution_count": 16,
         "metadata": {},
         "outputs": [
            {
               "name": "stderr",
               "output_type": "stream",
               "text": [
                  "c:\\users\\ruud.wijtvliet\\ruud\\python\\dev\\portfolyo\\portfolyo\\core\\pfline\\enable_arithmatic.py:82: PfLineFlattenedWarning: When adding a SinglePfLine and MultiPfLine, the MultiPfLine is flattened.\n",
                  "  warnings.warn(\n"
               ]
            },
            {
               "data": {
                  "text/plain": [
                     "PfState object.\n",
                     ". Timestamps: first: 2024-09-01 00:00:00+02:00     timezone: Europe/Berlin\n",
                     "               last: 2024-10-01 00:00:00+02:00         freq: <MonthBegin> (2 datapoints)\n",
                     "                                                w           q           p             r\n",
                     "                                               MW         MWh     Eur/MWh           Eur\n",
                     "──────── offtake\n",
                     "           2024-09-01 00:00:00 +0200       -148.2    -106 701                          \n",
                     "           2024-10-01 00:00:00 +0200       -164.1    -122 266                          \n",
                     "─●────── pnl_cost\n",
                     " │         2024-09-01 00:00:00 +0200        148.2     106 701      125.68    13 410 028\n",
                     " │         2024-10-01 00:00:00 +0200        164.1     122 266      142.10    17 373 558\n",
                     " ├────── sourced\n",
                     " │         2024-09-01 00:00:00 +0200        106.8      76 929      105.75     8 135 070\n",
                     " │         2024-10-01 00:00:00 +0200        113.8      84 785      110.41     9 360 658\n",
                     " └────── unsourced\n",
                     "           2024-09-01 00:00:00 +0200         41.4      29 772      177.18     5 274 959\n",
                     "           2024-10-01 00:00:00 +0200         50.3      37 482      213.78     8 012 900"
                  ]
               },
               "execution_count": 16,
               "metadata": {},
               "output_type": "execute_result"
            }
         ],
         "source": [
            "pfs1 + pfs2"
         ]
      },
      {
         "cell_type": "markdown",
         "metadata": {},
         "source": [
            "Note that the individual components are added together. The volumes (offtake, sourced, unsourced) are summed; the prices (sourced and unsourced) are the energy-weighted averaged. (Or, put differently, the *revenues* are also summed, and the prices are calculated from the volume-total and renevue-total.)\n",
            "\n",
            "Note also that the sourced volume of ``pfs1`` has been flattened, i.e., the values of its children are lost. This is because ``pfs2`` does not have any children. This behaviour is described [here](../core/pfline.rst#Arithmatic).\n",
            "\n",
            "Likewise we can subtract them with ``pfs1 - pfs2``:\n"
         ]
      },
      {
         "cell_type": "code",
         "execution_count": 17,
         "metadata": {},
         "outputs": [
            {
               "name": "stderr",
               "output_type": "stream",
               "text": [
                  "c:\\users\\ruud.wijtvliet\\ruud\\python\\dev\\portfolyo\\portfolyo\\core\\pfline\\enable_arithmatic.py:82: PfLineFlattenedWarning: When adding a SinglePfLine and MultiPfLine, the MultiPfLine is flattened.\n",
                  "  warnings.warn(\n"
               ]
            },
            {
               "data": {
                  "text/plain": [
                     "PfState object.\n",
                     ". Timestamps: first: 2024-09-01 00:00:00+02:00     timezone: Europe/Berlin\n",
                     "               last: 2024-10-01 00:00:00+02:00         freq: <MonthBegin> (2 datapoints)\n",
                     "                                                w           q           p             r\n",
                     "                                               MW         MWh     Eur/MWh           Eur\n",
                     "──────── offtake\n",
                     "           2024-09-01 00:00:00 +0200         49.4      35 567                          \n",
                     "           2024-10-01 00:00:00 +0200         54.7      40 755                          \n",
                     "─●────── pnl_cost\n",
                     " │         2024-09-01 00:00:00 +0200        -49.4     -35 567       98.00    -3 485 580\n",
                     " │         2024-10-01 00:00:00 +0200        -54.7     -40 755      101.63    -4 142 004\n",
                     " ├────── sourced\n",
                     " │         2024-09-01 00:00:00 +0200        -53.2     -38 271       88.45    -3 384 930\n",
                     " │         2024-10-01 00:00:00 +0200        -46.2     -34 415       74.37    -2 559 342\n",
                     " └────── unsourced\n",
                     "           2024-09-01 00:00:00 +0200          3.8       2 704      -37.22      -100 649\n",
                     "           2024-10-01 00:00:00 +0200         -8.5      -6 340      249.63    -1 582 662"
                  ]
               },
               "execution_count": 17,
               "metadata": {},
               "output_type": "execute_result"
            }
         ],
         "source": [
            "pfs1 - pfs2"
         ]
      },
      {
         "cell_type": "markdown",
         "metadata": {},
         "source": [
            "That was it for this tutorial!"
         ]
      }
   ],
   "metadata": {
      "kernelspec": {
         "display_name": "Python 3.8.13 ('pf38')",
         "language": "python",
         "name": "python3"
      },
      "language_info": {
         "codemirror_mode": {
            "name": "ipython",
            "version": 3
         },
         "file_extension": ".py",
         "mimetype": "text/x-python",
         "name": "python",
         "nbconvert_exporter": "python",
         "pygments_lexer": "ipython3",
         "version": "3.8.13"
      },
      "orig_nbformat": 4,
      "vscode": {
         "interpreter": {
            "hash": "642a4be8010ca5d45039b988c1d8379a91572488c4d23a0b88e966c6713c7e45"
         }
      }
   },
   "nbformat": 4,
   "nbformat_minor": 2
}
