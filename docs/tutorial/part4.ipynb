{
   "cells": [
      {
         "cell_type": "markdown",
         "metadata": {},
         "source": [
            "# Tutorial part 4\n",
            "\n",
            "In [part 3](part3.ipynb) we have learnt about portfolio states and how to use them in scenario analyses. Here we learn how to export them and how to combine several ones.\n",
            "\n",
            "## Example data\n",
            "\n",
            "We start with a similar portfolio state as in the previous part:"
         ]
      },
      {
         "cell_type": "code",
         "execution_count": null,
         "metadata": {},
         "outputs": [],
         "source": [
            "import portfolyo as pf\n",
            "import pandas as pd\n",
            "\n",
            "index = pd.date_range(\n",
            "    \"2024-09-01\", \"2024-11-01\", freq=\"15T\", inclusive=\"left\", tz=\"Europe/Berlin\"\n",
            ")\n",
            "# Creating portfolio line with market prices (here: price-forward curve).\n",
            "ts_prices = pf.dev.p_marketprices(index, avg=200)\n",
            "prices = pf.PfLine({\"p\": ts_prices})\n",
            "\n",
            "\n",
            "# Creating offtake portfolio line.\n",
            "ts_offtake = -1 * pf.dev.w_offtake(index, avg=50)\n",
            "offtake = pf.PfLine({\"w\": ts_offtake})\n",
            "\n",
            "# Creating portfolio line with sourced volume.\n",
            "ts_sourced_power1, ts_sourced_price1 = pf.dev.wp_sourced(\n",
            "    ts_offtake, \"QS\", 0.3, p_avg=120\n",
            ")\n",
            "sourced_quarters = pf.PfLine({\"w\": ts_sourced_power1, \"p\": ts_sourced_price1})\n",
            "ts_sourced_power2, ts_sourced_price2 = pf.dev.wp_sourced(\n",
            "    ts_offtake, \"MS\", 0.2, p_avg=150\n",
            ")\n",
            "sourced_months = pf.PfLine({\"w\": ts_sourced_power2, \"p\": ts_sourced_price2})\n",
            "sourced = pf.MultiPfLine(\n",
            "    {\"quarter_products\": sourced_quarters, \"month_products\": sourced_months}\n",
            ")\n",
            "\n",
            "# Create the portfolio state.\n",
            "pfs1 = pf.PfState(offtake, prices, sourced).asfreq('MS')\n",
            "\n",
            "pfs1.print()"
         ]
      },
      {
         "cell_type": "markdown",
         "metadata": {},
         "source": [
            "## Arithmatic\n",
            "\n",
            "The final part about portfolio lines is the arithmatic that can be done with them.\n",
            "\n",
            "Let's create a second portfolio state:"
         ]
      },
      {
         "cell_type": "code",
         "execution_count": null,
         "metadata": {},
         "outputs": [],
         "source": [
            "offtake2 = offtake * 2\n",
            "sourced2 = pf.PfLine(pd.DataFrame({\"w\": 80, \"p\": 100}, index))\n",
            "pfs2 = pf.PfState(offtake2, prices, sourced2).asfreq('MS')\n",
            "pfs2.print()"
         ]
      },
      {
         "cell_type": "markdown",
         "metadata": {},
         "source": [
            "Note that ``pfs1`` and ``pfs2`` have distinct unsourced prices at this month level, even though they were created using the same market prices on the quarter-hour level.\n",
            "\n",
            "### Addition and subtraction\n",
            "\n",
            "We can add these two portfolio states:"
         ]
      },
      {
         "cell_type": "code",
         "execution_count": null,
         "metadata": {},
         "outputs": [],
         "source": [
            "pfs1 + pfs2"
         ]
      },
      {
         "cell_type": "markdown",
         "metadata": {},
         "source": [
            "Note that the individual components are added together. The volumes (offtake, sourced, unsourced) are summed; the prices (sourced and unsourced) are the energy-weighted averaged. (Or, put differently, the *revenues* are also summed, and the prices are calculated from the volume-total and renevue-total.)\n",
            "\n",
            "Note also that the sourced volume of ``pfs1`` has been flattened, i.e., the values of its children are lost. This is because ``pfs2`` does not have any children. This behaviour is described [here](../core/pfline.rst#Arithmatic).\n",
            "\n",
            "Likewise we can subtract them with ``pfs1 - pfs2``:\n"
         ]
      },
      {
         "cell_type": "code",
         "execution_count": null,
         "metadata": {},
         "outputs": [],
         "source": [
            "pfs1 - pfs2"
         ]
      },
      {
         "cell_type": "markdown",
         "metadata": {},
         "source": []
      },
      {
         "cell_type": "markdown",
         "metadata": {},
         "source": []
      },
      {
         "cell_type": "markdown",
         "metadata": {},
         "source": []
      }
   ],
   "metadata": {
      "kernelspec": {
         "display_name": "Python 3.8.13 ('pf38')",
         "language": "python",
         "name": "python3"
      },
      "language_info": {
         "codemirror_mode": {
            "name": "ipython",
            "version": 3
         },
         "file_extension": ".py",
         "mimetype": "text/x-python",
         "name": "python",
         "nbconvert_exporter": "python",
         "pygments_lexer": "ipython3",
         "version": "3.8.13"
      },
      "orig_nbformat": 4,
      "vscode": {
         "interpreter": {
            "hash": "642a4be8010ca5d45039b988c1d8379a91572488c4d23a0b88e966c6713c7e45"
         }
      }
   },
   "nbformat": 4,
   "nbformat_minor": 2
}
