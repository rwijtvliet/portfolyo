{
 "cells": [
  {
   "cell_type": "markdown",
   "metadata": {},
   "source": [
    "# Tutorial part 4\n",
    "\n",
    "In [part 3](part3.ipynb) we have learnt about portfolio states and how to use them in scenario analyses. Here we learn how to export them and how to combine several ones.\n",
    "\n",
    "## Example data\n",
    "\n",
    "We start with a similar portfolio state as in the previous part:"
   ]
  },
  {
   "cell_type": "code",
   "execution_count": 1,
   "metadata": {},
   "outputs": [],
   "source": [
    "import portfolyo as pf\n",
    "import pandas as pd\n",
    "\n",
    "index = pd.date_range('2024-09-20', '2024-12-10', freq='15T', inclusive='left', tz='Europe/Berlin')\n",
    "# Creating offtake portfolio line.\n",
    "ts_offtake = -1 * pf.dev.w_offtake(index, avg=50)\n",
    "offtake = pf.PfLine({'w': ts_offtake})\n",
    "# Creating portfolio line with market prices (here: forward price curve).\n",
    "ts_prices = pf.dev.p_marketprices(index, avg=200)\n",
    "prices = pf.PfLine({'p': ts_prices})\n",
    "\n",
    "# Creating portfolio line with sourced volume.\n",
    "ts_sourced_power1, ts_sourced_price1 = pf.dev.wp_sourced(ts_offtake, 'QS', 0.3, p_avg=120)\n",
    "sourced_quarters = pf.PfLine({'w': ts_sourced_power1, 'p': ts_sourced_price1})\n",
    "ts_sourced_power2, ts_sourced_price2 = pf.dev.wp_sourced(ts_offtake, 'MS', 0.2, p_avg=150)\n",
    "sourced_months = pf.PfLine({'w': ts_sourced_power2, 'p': ts_sourced_price2})\n",
    "sourced = pf.MultiPfLine({'quarter_products': sourced_quarters, 'month_products': sourced_months})\n",
    "\n",
    "# Create the portfolio state.\n",
    "pfs1 = pf.PfState(offtake, prices, sourced)"
   ]
  },
  {
   "cell_type": "markdown",
   "metadata": {},
   "source": [
    "## Arithmatic"
   ]
  },
  {
   "cell_type": "markdown",
   "metadata": {},
   "source": []
  },
  {
   "cell_type": "markdown",
   "metadata": {},
   "source": []
  }
 ],
 "metadata": {
  "kernelspec": {
   "display_name": "Python 3.8.13 ('pf38')",
   "language": "python",
   "name": "python3"
  },
  "language_info": {
   "codemirror_mode": {
    "name": "ipython",
    "version": 3
   },
   "file_extension": ".py",
   "mimetype": "text/x-python",
   "name": "python",
   "nbconvert_exporter": "python",
   "pygments_lexer": "ipython3",
   "version": "3.8.13"
  },
  "orig_nbformat": 4,
  "vscode": {
   "interpreter": {
    "hash": "642a4be8010ca5d45039b988c1d8379a91572488c4d23a0b88e966c6713c7e45"
   }
  }
 },
 "nbformat": 4,
 "nbformat_minor": 2
}
