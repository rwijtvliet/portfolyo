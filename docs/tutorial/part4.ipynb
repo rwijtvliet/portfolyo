{
   "cells": [
      {
         "cell_type": "markdown",
         "metadata": {},
         "source": [
            "# Tutorial part 4\n",
            "\n",
            "In [part 3](part3.ipynb) we have learnt about portfolio states and how to use them in scenario analyses. Here we learn how to export them and how to combine several ones.\n",
            "\n",
            "## Example data\n",
            "\n",
            "We start with a similar portfolio state as in the previous part:"
         ]
      },
      {
         "cell_type": "code",
         "execution_count": 4,
         "metadata": {},
         "outputs": [
            {
               "name": "stdout",
               "output_type": "stream",
               "text": [
                  "PfState object.\n",
                  ". Timestamps: first: 2024-09-01 00:00:00+02:00     timezone: Europe/Berlin\n",
                  "               last: 2024-10-01 00:00:00+02:00         freq: <MonthBegin> (2 datapoints)\n",
                  "                                                w           q           p             r\n",
                  "                                               MW         MWh     Eur/MWh           Eur\n",
                  "\u001b[1m\u001b[37m──────── offtake\n",
                  "  \u001b[1m\u001b[37m         \u001b[0m2024-09-01 00:00:00 +0200        -49.4     -35 567                          \n",
                  "  \u001b[1m\u001b[37m         \u001b[0m2024-10-01 00:00:00 +0200        -54.7     -40 754                          \n",
                  "\u001b[1m\u001b[37m─\u001b[1m\u001b[33m●\u001b[1m\u001b[37m────── pnl_cost\n",
                  " \u001b[1m\u001b[33m│\u001b[1m\u001b[37m         \u001b[0m2024-09-01 00:00:00 +0200         49.4      35 567      164.97     5 867 542\n",
                  " \u001b[1m\u001b[33m│\u001b[1m\u001b[37m         \u001b[0m2024-10-01 00:00:00 +0200         54.7      40 754      151.18     6 161 235\n",
                  " \u001b[1m\u001b[33m├\u001b[1m\u001b[36m●\u001b[1m\u001b[33m───── sourced\n",
                  " \u001b[1m\u001b[33m│\u001b[1m\u001b[36m│\u001b[1m\u001b[33m        \u001b[0m2024-09-01 00:00:00 +0200         21.5      15 445      127.65     1 971 561\n",
                  " \u001b[1m\u001b[33m│\u001b[1m\u001b[36m│\u001b[1m\u001b[33m        \u001b[0m2024-10-01 00:00:00 +0200         38.0      28 324      136.40     3 863 320\n",
                  " \u001b[1m\u001b[33m│\u001b[1m\u001b[36m├───── quarter_products\n",
                  " \u001b[1m\u001b[33m│\u001b[1m\u001b[36m│ \u001b[1m\u001b[36m       \u001b[0m2024-09-01 00:00:00 +0200         14.1      10 147      120.73     1 225 030\n",
                  " \u001b[1m\u001b[33m│\u001b[1m\u001b[36m│ \u001b[1m\u001b[36m       \u001b[0m2024-10-01 00:00:00 +0200         19.7      14 680      115.81     1 700 082\n",
                  " \u001b[1m\u001b[33m│\u001b[1m\u001b[36m└───── month_products\n",
                  " \u001b[1m\u001b[33m│  \u001b[1m\u001b[36m       \u001b[0m2024-09-01 00:00:00 +0200          7.4       5 298      140.90       746 530\n",
                  " \u001b[1m\u001b[33m│  \u001b[1m\u001b[36m       \u001b[0m2024-10-01 00:00:00 +0200         18.3      13 644      158.55     2 163 238\n",
                  " \u001b[1m\u001b[33m└────── unsourced\n",
                  "   \u001b[1m\u001b[33m        \u001b[0m2024-09-01 00:00:00 +0200         27.9      20 122      193.62     3 895 981\n",
                  "   \u001b[1m\u001b[33m        \u001b[0m2024-10-01 00:00:00 +0200         16.7      12 430      184.87     2 297 915\n"
               ]
            }
         ],
         "source": [
            "import portfolyo as pf\n",
            "import pandas as pd\n",
            "\n",
            "index = pd.date_range(\n",
            "    \"2024-09-01\", \"2024-11-01\", freq=\"15T\", inclusive=\"left\", tz=\"Europe/Berlin\"\n",
            ")\n",
            "# Creating portfolio line with market prices (here: price-forward curve).\n",
            "ts_prices = pf.dev.p_marketprices(index, avg=200)\n",
            "prices = pf.PfLine({\"p\": ts_prices})\n",
            "\n",
            "\n",
            "# Creating offtake portfolio line.\n",
            "ts_offtake = -1 * pf.dev.w_offtake(index, avg=50)\n",
            "offtake = pf.PfLine({\"w\": ts_offtake})\n",
            "\n",
            "# Creating portfolio line with sourced volume.\n",
            "ts_sourced_power1, ts_sourced_price1 = pf.dev.wp_sourced(\n",
            "    ts_offtake, \"QS\", 0.3, p_avg=120\n",
            ")\n",
            "sourced_quarters = pf.PfLine({\"w\": ts_sourced_power1, \"p\": ts_sourced_price1})\n",
            "ts_sourced_power2, ts_sourced_price2 = pf.dev.wp_sourced(\n",
            "    ts_offtake, \"MS\", 0.2, p_avg=150\n",
            ")\n",
            "sourced_months = pf.PfLine({\"w\": ts_sourced_power2, \"p\": ts_sourced_price2})\n",
            "sourced = pf.MultiPfLine(\n",
            "    {\"quarter_products\": sourced_quarters, \"month_products\": sourced_months}\n",
            ")\n",
            "\n",
            "# Create the portfolio state.\n",
            "pfs1 = pf.PfState(offtake, prices, sourced).asfreq('MS')\n",
            "\n",
            "pfs1.print()"
         ]
      },
      {
         "cell_type": "markdown",
         "metadata": {},
         "source": [
            "## Arithmatic\n",
            "\n",
            "The final part about portfolio lines is the arithmatic that can be done with them.\n",
            "\n",
            "Let's create a second portfolio state:"
         ]
      },
      {
         "cell_type": "code",
         "execution_count": 7,
         "metadata": {},
         "outputs": [
            {
               "name": "stdout",
               "output_type": "stream",
               "text": [
                  "PfState object.\n",
                  ". Timestamps: first: 2024-09-01 00:00:00+02:00     timezone: Europe/Berlin\n",
                  "               last: 2024-10-01 00:00:00+02:00         freq: <MonthBegin> (2 datapoints)\n",
                  "                                                w           q           p             r\n",
                  "                                               MW         MWh     Eur/MWh           Eur\n",
                  "\u001b[1m\u001b[37m──────── offtake\n",
                  "  \u001b[1m\u001b[37m         \u001b[0m2024-09-01 00:00:00 +0200        -98.8     -71 134                          \n",
                  "  \u001b[1m\u001b[37m         \u001b[0m2024-10-01 00:00:00 +0200       -109.4     -81 509                          \n",
                  "\u001b[1m\u001b[37m─\u001b[1m\u001b[33m●\u001b[1m\u001b[37m────── pnl_cost\n",
                  " \u001b[1m\u001b[33m│\u001b[1m\u001b[37m         \u001b[0m2024-09-01 00:00:00 +0200         98.8      71 134      118.75     8 447 101\n",
                  " \u001b[1m\u001b[33m│\u001b[1m\u001b[37m         \u001b[0m2024-10-01 00:00:00 +0200        109.4      81 509      131.96    10 756 297\n",
                  " \u001b[1m\u001b[33m├────── sourced\n",
                  " \u001b[1m\u001b[33m│ \u001b[1m\u001b[33m        \u001b[0m2024-09-01 00:00:00 +0200         80.0      57 600      100.00     5 760 000\n",
                  " \u001b[1m\u001b[33m│ \u001b[1m\u001b[33m        \u001b[0m2024-10-01 00:00:00 +0200         80.0      59 600      100.00     5 960 000\n",
                  " \u001b[1m\u001b[33m└────── unsourced\n",
                  "   \u001b[1m\u001b[33m        \u001b[0m2024-09-01 00:00:00 +0200         18.8      13 534      198.55     2 687 101\n",
                  "   \u001b[1m\u001b[33m        \u001b[0m2024-10-01 00:00:00 +0200         29.4      21 909      218.92     4 796 297\n"
               ]
            }
         ],
         "source": [
            "offtake2 = offtake * 2\n",
            "sourced2 = pf.PfLine(pd.DataFrame({\"w\": 80, \"p\": 100}, index))\n",
            "pfs2 = pf.PfState(offtake2, prices, sourced2).asfreq('MS')\n",
            "pfs2.print()"
         ]
      },
      {
         "cell_type": "markdown",
         "metadata": {},
         "source": [
            "Note that ``pfs1`` and ``pfs2`` have distinct unsourced prices at this month level, even though they were created using the same market prices on the quarter-hour level.\n",
            "\n",
            "### Addition and subtraction\n",
            "\n",
            "We can add these two portfolio states:"
         ]
      },
      {
         "cell_type": "code",
         "execution_count": 8,
         "metadata": {},
         "outputs": [
            {
               "name": "stderr",
               "output_type": "stream",
               "text": [
                  "c:\\users\\ruud.wijtvliet\\ruud\\python\\dev\\portfolyo\\portfolyo\\core\\pfline\\enable_arithmatic.py:82: PfLineFlattenedWarning: When adding a SinglePfLine and MultiPfLine, the MultiPfLine is flattened.\n",
                  "  warnings.warn(\n"
               ]
            },
            {
               "ename": "ValueError",
               "evalue": "Need at least 3 dates to infer frequency",
               "output_type": "error",
               "traceback": [
                  "\u001b[1;31m---------------------------------------------------------------------------\u001b[0m",
                  "\u001b[1;31mValueError\u001b[0m                                Traceback (most recent call last)",
                  "\u001b[1;32mc:\\Users\\ruud.wijtvliet\\Ruud\\Python\\dev\\portfolyo\\docs\\tutorial\\part4.ipynb Cell 6\u001b[0m in \u001b[0;36m<cell line: 1>\u001b[1;34m()\u001b[0m\n\u001b[1;32m----> <a href='vscode-notebook-cell:/c%3A/Users/ruud.wijtvliet/Ruud/Python/dev/portfolyo/docs/tutorial/part4.ipynb#ch0000007?line=0'>1</a>\u001b[0m pfs1 \u001b[39m+\u001b[39;49m pfs2\n",
                  "File \u001b[1;32mc:\\users\\ruud.wijtvliet\\ruud\\python\\dev\\portfolyo\\portfolyo\\core\\pfstate\\enable_arithmatic.py:116\u001b[0m, in \u001b[0;36mPfStateArithmatic.__add__\u001b[1;34m(self, other)\u001b[0m\n\u001b[0;32m    114\u001b[0m \u001b[39m# Other is a PfState.\u001b[39;00m\n\u001b[0;32m    115\u001b[0m \u001b[39mif\u001b[39;00m \u001b[39misinstance\u001b[39m(other, pfstate\u001b[39m.\u001b[39mPfState):\n\u001b[1;32m--> 116\u001b[0m     \u001b[39mreturn\u001b[39;00m _add_pfstates(\u001b[39mself\u001b[39;49m, other)\n\u001b[0;32m    118\u001b[0m \u001b[39mraise\u001b[39;00m \u001b[39mNotImplementedError\u001b[39;00m(\u001b[39m\"\u001b[39m\u001b[39mThis addition is not defined.\u001b[39m\u001b[39m\"\u001b[39m)\n",
                  "File \u001b[1;32mc:\\users\\ruud.wijtvliet\\ruud\\python\\dev\\portfolyo\\portfolyo\\core\\pfstate\\enable_arithmatic.py:65\u001b[0m, in \u001b[0;36m_add_pfstates\u001b[1;34m(pfs1, pfs2)\u001b[0m\n\u001b[0;32m     63\u001b[0m values \u001b[39m=\u001b[39m pd\u001b[39m.\u001b[39mDataFrame({\u001b[39m\"\u001b[39m\u001b[39ms\u001b[39m\u001b[39m\"\u001b[39m: pfs1\u001b[39m.\u001b[39munsourcedprice\u001b[39m.\u001b[39mp, \u001b[39m\"\u001b[39m\u001b[39mo\u001b[39m\u001b[39m\"\u001b[39m: pfs2\u001b[39m.\u001b[39munsourcedprice\u001b[39m.\u001b[39mp})\n\u001b[0;32m     64\u001b[0m weights \u001b[39m=\u001b[39m pd\u001b[39m.\u001b[39mDataFrame({\u001b[39m\"\u001b[39m\u001b[39ms\u001b[39m\u001b[39m\"\u001b[39m: pfs1\u001b[39m.\u001b[39munsourced\u001b[39m.\u001b[39mq, \u001b[39m\"\u001b[39m\u001b[39mo\u001b[39m\u001b[39m\"\u001b[39m: pfs2\u001b[39m.\u001b[39munsourced\u001b[39m.\u001b[39mq})\n\u001b[1;32m---> 65\u001b[0m unsourcedprice \u001b[39m=\u001b[39m pfline\u001b[39m.\u001b[39mPfLine({\u001b[39m\"\u001b[39m\u001b[39mp\u001b[39m\u001b[39m\"\u001b[39m: frames\u001b[39m.\u001b[39;49mwavg(values, weights, axis\u001b[39m=\u001b[39;49m\u001b[39m1\u001b[39;49m)})\n\u001b[0;32m     67\u001b[0m \u001b[39mreturn\u001b[39;00m pfstate\u001b[39m.\u001b[39mPfState(offtakevolume, unsourcedprice, sourced)\n",
                  "File \u001b[1;32mc:\\users\\ruud.wijtvliet\\ruud\\python\\dev\\portfolyo\\portfolyo\\tools\\frames.py:444\u001b[0m, in \u001b[0;36mwavg\u001b[1;34m(fr, weights, axis)\u001b[0m\n\u001b[0;32m    422\u001b[0m \u001b[39m\"\"\"\u001b[39;00m\n\u001b[0;32m    423\u001b[0m \u001b[39mWeighted average of series or dataframe.\u001b[39;00m\n\u001b[0;32m    424\u001b[0m \n\u001b[1;32m   (...)\u001b[0m\n\u001b[0;32m    441\u001b[0m \u001b[39m    `fr` is a Dataframe.\u001b[39;00m\n\u001b[0;32m    442\u001b[0m \u001b[39m\"\"\"\u001b[39;00m\n\u001b[0;32m    443\u001b[0m \u001b[39mif\u001b[39;00m \u001b[39misinstance\u001b[39m(fr, pd\u001b[39m.\u001b[39mDataFrame):\n\u001b[1;32m--> 444\u001b[0m     \u001b[39mreturn\u001b[39;00m _wavg_df(fr, weights, axis)\n\u001b[0;32m    445\u001b[0m \u001b[39melif\u001b[39;00m \u001b[39misinstance\u001b[39m(fr, pd\u001b[39m.\u001b[39mSeries):\n\u001b[0;32m    446\u001b[0m     \u001b[39mreturn\u001b[39;00m _wavg_series(fr, weights)\n",
                  "File \u001b[1;32mc:\\users\\ruud.wijtvliet\\ruud\\python\\dev\\portfolyo\\portfolyo\\tools\\frames.py:547\u001b[0m, in \u001b[0;36m_wavg_df\u001b[1;34m(df, weights, axis)\u001b[0m\n\u001b[0;32m    544\u001b[0m         \u001b[39mpass\u001b[39;00m\n\u001b[0;32m    546\u001b[0m \u001b[39m# Correction: infer frequency (may be lost if axis==1).\u001b[39;00m\n\u001b[1;32m--> 547\u001b[0m result \u001b[39m=\u001b[39m set_frequency(result)\n\u001b[0;32m    548\u001b[0m \u001b[39mreturn\u001b[39;00m result\n",
                  "File \u001b[1;32mc:\\users\\ruud.wijtvliet\\ruud\\python\\dev\\portfolyo\\portfolyo\\tools\\frames.py:270\u001b[0m, in \u001b[0;36mset_frequency\u001b[1;34m(fr, wanted, strict)\u001b[0m\n\u001b[0;32m    268\u001b[0m \u001b[39mif\u001b[39;00m fr\u001b[39m.\u001b[39mindex\u001b[39m.\u001b[39mfreq:\n\u001b[0;32m    269\u001b[0m     \u001b[39mpass\u001b[39;00m\n\u001b[1;32m--> 270\u001b[0m \u001b[39melif\u001b[39;00m freq \u001b[39m:=\u001b[39m pd\u001b[39m.\u001b[39;49minfer_freq(fr\u001b[39m.\u001b[39;49mindex):\n\u001b[0;32m    271\u001b[0m     fr\u001b[39m.\u001b[39mindex\u001b[39m.\u001b[39mfreq \u001b[39m=\u001b[39m freq\n\u001b[0;32m    272\u001b[0m \u001b[39melif\u001b[39;00m wanted:\n",
                  "File \u001b[1;32mc:\\Users\\ruud.wijtvliet\\Anaconda3\\envs\\pf38\\lib\\site-packages\\pandas\\tseries\\frequencies.py:202\u001b[0m, in \u001b[0;36minfer_freq\u001b[1;34m(index, warn)\u001b[0m\n\u001b[0;32m    199\u001b[0m \u001b[39mif\u001b[39;00m \u001b[39mnot\u001b[39;00m \u001b[39misinstance\u001b[39m(index, DatetimeIndex):\n\u001b[0;32m    200\u001b[0m     index \u001b[39m=\u001b[39m DatetimeIndex(index)\n\u001b[1;32m--> 202\u001b[0m inferer \u001b[39m=\u001b[39m _FrequencyInferer(index, warn\u001b[39m=\u001b[39;49mwarn)\n\u001b[0;32m    203\u001b[0m \u001b[39mreturn\u001b[39;00m inferer\u001b[39m.\u001b[39mget_freq()\n",
                  "File \u001b[1;32mc:\\Users\\ruud.wijtvliet\\Anaconda3\\envs\\pf38\\lib\\site-packages\\pandas\\tseries\\frequencies.py:226\u001b[0m, in \u001b[0;36m_FrequencyInferer.__init__\u001b[1;34m(self, index, warn)\u001b[0m\n\u001b[0;32m    223\u001b[0m \u001b[39mself\u001b[39m\u001b[39m.\u001b[39mwarn \u001b[39m=\u001b[39m warn\n\u001b[0;32m    225\u001b[0m \u001b[39mif\u001b[39;00m \u001b[39mlen\u001b[39m(index) \u001b[39m<\u001b[39m \u001b[39m3\u001b[39m:\n\u001b[1;32m--> 226\u001b[0m     \u001b[39mraise\u001b[39;00m \u001b[39mValueError\u001b[39;00m(\u001b[39m\"\u001b[39m\u001b[39mNeed at least 3 dates to infer frequency\u001b[39m\u001b[39m\"\u001b[39m)\n\u001b[0;32m    228\u001b[0m \u001b[39mself\u001b[39m\u001b[39m.\u001b[39mis_monotonic \u001b[39m=\u001b[39m (\n\u001b[0;32m    229\u001b[0m     \u001b[39mself\u001b[39m\u001b[39m.\u001b[39mindex\u001b[39m.\u001b[39m_is_monotonic_increasing \u001b[39mor\u001b[39;00m \u001b[39mself\u001b[39m\u001b[39m.\u001b[39mindex\u001b[39m.\u001b[39m_is_monotonic_decreasing\n\u001b[0;32m    230\u001b[0m )\n",
                  "\u001b[1;31mValueError\u001b[0m: Need at least 3 dates to infer frequency"
               ]
            }
         ],
         "source": [
            "pfs1 + pfs2"
         ]
      },
      {
         "cell_type": "markdown",
         "metadata": {},
         "source": [
            "Note that the individual components are added together. The volumes (offtake, sourced, unsourced) are summed; the prices (sourced and unsourced) are the energy-weighted averaged. (Or, put differently, the *revenues* are also summed, and the prices are calculated from the volume-total and renevue-total.)\n",
            "\n",
            "Note also that the sourced volume of ``pfs1`` has been flattened, i.e., the values of its children are lost. This is because ``pfs2`` does not have any children. This behaviour is described [here](../core/pfline.rst#Arithmatic).\n",
            "\n",
            "Likewise we can subtract them with ``pfs1 - pfs2``:\n"
         ]
      },
      {
         "cell_type": "code",
         "execution_count": 9,
         "metadata": {},
         "outputs": [
            {
               "name": "stderr",
               "output_type": "stream",
               "text": [
                  "c:\\users\\ruud.wijtvliet\\ruud\\python\\dev\\portfolyo\\portfolyo\\core\\pfline\\enable_arithmatic.py:82: PfLineFlattenedWarning: When adding a SinglePfLine and MultiPfLine, the MultiPfLine is flattened.\n",
                  "  warnings.warn(\n"
               ]
            },
            {
               "ename": "ValueError",
               "evalue": "Need at least 3 dates to infer frequency",
               "output_type": "error",
               "traceback": [
                  "\u001b[1;31m---------------------------------------------------------------------------\u001b[0m",
                  "\u001b[1;31mValueError\u001b[0m                                Traceback (most recent call last)",
                  "\u001b[1;32mc:\\Users\\ruud.wijtvliet\\Ruud\\Python\\dev\\portfolyo\\docs\\tutorial\\part4.ipynb Cell 8\u001b[0m in \u001b[0;36m<cell line: 1>\u001b[1;34m()\u001b[0m\n\u001b[1;32m----> <a href='vscode-notebook-cell:/c%3A/Users/ruud.wijtvliet/Ruud/Python/dev/portfolyo/docs/tutorial/part4.ipynb#ch0000010?line=0'>1</a>\u001b[0m pfs1 \u001b[39m-\u001b[39;49m pfs2\n",
                  "File \u001b[1;32mc:\\users\\ruud.wijtvliet\\ruud\\python\\dev\\portfolyo\\portfolyo\\core\\pfstate\\enable_arithmatic.py:123\u001b[0m, in \u001b[0;36mPfStateArithmatic.__sub__\u001b[1;34m(self, other)\u001b[0m\n\u001b[0;32m    122\u001b[0m \u001b[39mdef\u001b[39;00m \u001b[39m__sub__\u001b[39m(\u001b[39mself\u001b[39m: PfState, other):\n\u001b[1;32m--> 123\u001b[0m     \u001b[39mreturn\u001b[39;00m \u001b[39mself\u001b[39;49m \u001b[39m+\u001b[39;49m \u001b[39m-\u001b[39;49mother \u001b[39mif\u001b[39;00m other \u001b[39melse\u001b[39;00m \u001b[39mself\u001b[39m\n",
                  "File \u001b[1;32mc:\\users\\ruud.wijtvliet\\ruud\\python\\dev\\portfolyo\\portfolyo\\core\\pfstate\\enable_arithmatic.py:116\u001b[0m, in \u001b[0;36mPfStateArithmatic.__add__\u001b[1;34m(self, other)\u001b[0m\n\u001b[0;32m    114\u001b[0m \u001b[39m# Other is a PfState.\u001b[39;00m\n\u001b[0;32m    115\u001b[0m \u001b[39mif\u001b[39;00m \u001b[39misinstance\u001b[39m(other, pfstate\u001b[39m.\u001b[39mPfState):\n\u001b[1;32m--> 116\u001b[0m     \u001b[39mreturn\u001b[39;00m _add_pfstates(\u001b[39mself\u001b[39;49m, other)\n\u001b[0;32m    118\u001b[0m \u001b[39mraise\u001b[39;00m \u001b[39mNotImplementedError\u001b[39;00m(\u001b[39m\"\u001b[39m\u001b[39mThis addition is not defined.\u001b[39m\u001b[39m\"\u001b[39m)\n",
                  "File \u001b[1;32mc:\\users\\ruud.wijtvliet\\ruud\\python\\dev\\portfolyo\\portfolyo\\core\\pfstate\\enable_arithmatic.py:65\u001b[0m, in \u001b[0;36m_add_pfstates\u001b[1;34m(pfs1, pfs2)\u001b[0m\n\u001b[0;32m     63\u001b[0m values \u001b[39m=\u001b[39m pd\u001b[39m.\u001b[39mDataFrame({\u001b[39m\"\u001b[39m\u001b[39ms\u001b[39m\u001b[39m\"\u001b[39m: pfs1\u001b[39m.\u001b[39munsourcedprice\u001b[39m.\u001b[39mp, \u001b[39m\"\u001b[39m\u001b[39mo\u001b[39m\u001b[39m\"\u001b[39m: pfs2\u001b[39m.\u001b[39munsourcedprice\u001b[39m.\u001b[39mp})\n\u001b[0;32m     64\u001b[0m weights \u001b[39m=\u001b[39m pd\u001b[39m.\u001b[39mDataFrame({\u001b[39m\"\u001b[39m\u001b[39ms\u001b[39m\u001b[39m\"\u001b[39m: pfs1\u001b[39m.\u001b[39munsourced\u001b[39m.\u001b[39mq, \u001b[39m\"\u001b[39m\u001b[39mo\u001b[39m\u001b[39m\"\u001b[39m: pfs2\u001b[39m.\u001b[39munsourced\u001b[39m.\u001b[39mq})\n\u001b[1;32m---> 65\u001b[0m unsourcedprice \u001b[39m=\u001b[39m pfline\u001b[39m.\u001b[39mPfLine({\u001b[39m\"\u001b[39m\u001b[39mp\u001b[39m\u001b[39m\"\u001b[39m: frames\u001b[39m.\u001b[39;49mwavg(values, weights, axis\u001b[39m=\u001b[39;49m\u001b[39m1\u001b[39;49m)})\n\u001b[0;32m     67\u001b[0m \u001b[39mreturn\u001b[39;00m pfstate\u001b[39m.\u001b[39mPfState(offtakevolume, unsourcedprice, sourced)\n",
                  "File \u001b[1;32mc:\\users\\ruud.wijtvliet\\ruud\\python\\dev\\portfolyo\\portfolyo\\tools\\frames.py:444\u001b[0m, in \u001b[0;36mwavg\u001b[1;34m(fr, weights, axis)\u001b[0m\n\u001b[0;32m    422\u001b[0m \u001b[39m\"\"\"\u001b[39;00m\n\u001b[0;32m    423\u001b[0m \u001b[39mWeighted average of series or dataframe.\u001b[39;00m\n\u001b[0;32m    424\u001b[0m \n\u001b[1;32m   (...)\u001b[0m\n\u001b[0;32m    441\u001b[0m \u001b[39m    `fr` is a Dataframe.\u001b[39;00m\n\u001b[0;32m    442\u001b[0m \u001b[39m\"\"\"\u001b[39;00m\n\u001b[0;32m    443\u001b[0m \u001b[39mif\u001b[39;00m \u001b[39misinstance\u001b[39m(fr, pd\u001b[39m.\u001b[39mDataFrame):\n\u001b[1;32m--> 444\u001b[0m     \u001b[39mreturn\u001b[39;00m _wavg_df(fr, weights, axis)\n\u001b[0;32m    445\u001b[0m \u001b[39melif\u001b[39;00m \u001b[39misinstance\u001b[39m(fr, pd\u001b[39m.\u001b[39mSeries):\n\u001b[0;32m    446\u001b[0m     \u001b[39mreturn\u001b[39;00m _wavg_series(fr, weights)\n",
                  "File \u001b[1;32mc:\\users\\ruud.wijtvliet\\ruud\\python\\dev\\portfolyo\\portfolyo\\tools\\frames.py:547\u001b[0m, in \u001b[0;36m_wavg_df\u001b[1;34m(df, weights, axis)\u001b[0m\n\u001b[0;32m    544\u001b[0m         \u001b[39mpass\u001b[39;00m\n\u001b[0;32m    546\u001b[0m \u001b[39m# Correction: infer frequency (may be lost if axis==1).\u001b[39;00m\n\u001b[1;32m--> 547\u001b[0m result \u001b[39m=\u001b[39m set_frequency(result)\n\u001b[0;32m    548\u001b[0m \u001b[39mreturn\u001b[39;00m result\n",
                  "File \u001b[1;32mc:\\users\\ruud.wijtvliet\\ruud\\python\\dev\\portfolyo\\portfolyo\\tools\\frames.py:270\u001b[0m, in \u001b[0;36mset_frequency\u001b[1;34m(fr, wanted, strict)\u001b[0m\n\u001b[0;32m    268\u001b[0m \u001b[39mif\u001b[39;00m fr\u001b[39m.\u001b[39mindex\u001b[39m.\u001b[39mfreq:\n\u001b[0;32m    269\u001b[0m     \u001b[39mpass\u001b[39;00m\n\u001b[1;32m--> 270\u001b[0m \u001b[39melif\u001b[39;00m freq \u001b[39m:=\u001b[39m pd\u001b[39m.\u001b[39;49minfer_freq(fr\u001b[39m.\u001b[39;49mindex):\n\u001b[0;32m    271\u001b[0m     fr\u001b[39m.\u001b[39mindex\u001b[39m.\u001b[39mfreq \u001b[39m=\u001b[39m freq\n\u001b[0;32m    272\u001b[0m \u001b[39melif\u001b[39;00m wanted:\n",
                  "File \u001b[1;32mc:\\Users\\ruud.wijtvliet\\Anaconda3\\envs\\pf38\\lib\\site-packages\\pandas\\tseries\\frequencies.py:202\u001b[0m, in \u001b[0;36minfer_freq\u001b[1;34m(index, warn)\u001b[0m\n\u001b[0;32m    199\u001b[0m \u001b[39mif\u001b[39;00m \u001b[39mnot\u001b[39;00m \u001b[39misinstance\u001b[39m(index, DatetimeIndex):\n\u001b[0;32m    200\u001b[0m     index \u001b[39m=\u001b[39m DatetimeIndex(index)\n\u001b[1;32m--> 202\u001b[0m inferer \u001b[39m=\u001b[39m _FrequencyInferer(index, warn\u001b[39m=\u001b[39;49mwarn)\n\u001b[0;32m    203\u001b[0m \u001b[39mreturn\u001b[39;00m inferer\u001b[39m.\u001b[39mget_freq()\n",
                  "File \u001b[1;32mc:\\Users\\ruud.wijtvliet\\Anaconda3\\envs\\pf38\\lib\\site-packages\\pandas\\tseries\\frequencies.py:226\u001b[0m, in \u001b[0;36m_FrequencyInferer.__init__\u001b[1;34m(self, index, warn)\u001b[0m\n\u001b[0;32m    223\u001b[0m \u001b[39mself\u001b[39m\u001b[39m.\u001b[39mwarn \u001b[39m=\u001b[39m warn\n\u001b[0;32m    225\u001b[0m \u001b[39mif\u001b[39;00m \u001b[39mlen\u001b[39m(index) \u001b[39m<\u001b[39m \u001b[39m3\u001b[39m:\n\u001b[1;32m--> 226\u001b[0m     \u001b[39mraise\u001b[39;00m \u001b[39mValueError\u001b[39;00m(\u001b[39m\"\u001b[39m\u001b[39mNeed at least 3 dates to infer frequency\u001b[39m\u001b[39m\"\u001b[39m)\n\u001b[0;32m    228\u001b[0m \u001b[39mself\u001b[39m\u001b[39m.\u001b[39mis_monotonic \u001b[39m=\u001b[39m (\n\u001b[0;32m    229\u001b[0m     \u001b[39mself\u001b[39m\u001b[39m.\u001b[39mindex\u001b[39m.\u001b[39m_is_monotonic_increasing \u001b[39mor\u001b[39;00m \u001b[39mself\u001b[39m\u001b[39m.\u001b[39mindex\u001b[39m.\u001b[39m_is_monotonic_decreasing\n\u001b[0;32m    230\u001b[0m )\n",
                  "\u001b[1;31mValueError\u001b[0m: Need at least 3 dates to infer frequency"
               ]
            }
         ],
         "source": [
            "pfs1 - pfs2"
         ]
      },
      {
         "cell_type": "markdown",
         "metadata": {},
         "source": []
      },
      {
         "cell_type": "markdown",
         "metadata": {},
         "source": []
      },
      {
         "cell_type": "markdown",
         "metadata": {},
         "source": []
      }
   ],
   "metadata": {
      "kernelspec": {
         "display_name": "Python 3.8.13 ('pf38')",
         "language": "python",
         "name": "python3"
      },
      "language_info": {
         "codemirror_mode": {
            "name": "ipython",
            "version": 3
         },
         "file_extension": ".py",
         "mimetype": "text/x-python",
         "name": "python",
         "nbconvert_exporter": "python",
         "pygments_lexer": "ipython3",
         "version": "3.8.13"
      },
      "orig_nbformat": 4,
      "vscode": {
         "interpreter": {
            "hash": "642a4be8010ca5d45039b988c1d8379a91572488c4d23a0b88e966c6713c7e45"
         }
      }
   },
   "nbformat": 4,
   "nbformat_minor": 2
}
